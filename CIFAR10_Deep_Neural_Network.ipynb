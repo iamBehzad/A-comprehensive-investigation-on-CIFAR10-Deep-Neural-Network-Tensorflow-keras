{
  "nbformat": 4,
  "nbformat_minor": 0,
  "metadata": {
    "colab": {
      "provenance": [],
      "authorship_tag": "ABX9TyPquJYsbRll7uNHhF0es26U",
      "include_colab_link": true
    },
    "kernelspec": {
      "name": "python3",
      "display_name": "Python 3"
    },
    "language_info": {
      "name": "python"
    },
    "accelerator": "GPU",
    "gpuClass": "standard"
  },
  "cells": [
    {
      "cell_type": "markdown",
      "metadata": {
        "id": "view-in-github",
        "colab_type": "text"
      },
      "source": [
        "<a href=\"https://colab.research.google.com/github/iamBehzad/CIFAR10-Deep-Neural-Network-Tensorflow-keras/blob/main/CIFAR10_Deep_Neural_Network.ipynb\" target=\"_parent\"><img src=\"https://colab.research.google.com/assets/colab-badge.svg\" alt=\"Open In Colab\"/></a>"
      ]
    },
    {
      "cell_type": "markdown",
      "source": [
        "#instal keras-tuner"
      ],
      "metadata": {
        "id": "7C9w2l12OEWX"
      }
    },
    {
      "cell_type": "code",
      "execution_count": null,
      "metadata": {
        "colab": {
          "base_uri": "https://localhost:8080/"
        },
        "id": "AdwJePlfI24E",
        "outputId": "d8c83002-8d5e-4497-c45c-72a4b63edb2d"
      },
      "outputs": [
        {
          "output_type": "stream",
          "name": "stdout",
          "text": [
            "Looking in indexes: https://pypi.org/simple, https://us-python.pkg.dev/colab-wheels/public/simple/\n",
            "Collecting keras-tuner\n",
            "  Downloading keras_tuner-1.3.3-py3-none-any.whl (172 kB)\n",
            "\u001b[2K     \u001b[90m━━━━━━━━━━━━━━━━━━━━━━━━━━━━━━━━━━━━━━━\u001b[0m \u001b[32m172.1/172.1 KB\u001b[0m \u001b[31m4.8 MB/s\u001b[0m eta \u001b[36m0:00:00\u001b[0m\n",
            "\u001b[?25hCollecting kt-legacy\n",
            "  Downloading kt_legacy-1.0.4-py3-none-any.whl (9.6 kB)\n",
            "Requirement already satisfied: protobuf<=3.20.3 in /usr/local/lib/python3.9/dist-packages (from keras-tuner) (3.20.3)\n",
            "Requirement already satisfied: tensorflow>=2.0 in /usr/local/lib/python3.9/dist-packages (from keras-tuner) (2.12.0)\n",
            "Requirement already satisfied: requests in /usr/local/lib/python3.9/dist-packages (from keras-tuner) (2.27.1)\n",
            "Requirement already satisfied: packaging in /usr/local/lib/python3.9/dist-packages (from keras-tuner) (23.0)\n",
            "Requirement already satisfied: h5py>=2.9.0 in /usr/local/lib/python3.9/dist-packages (from tensorflow>=2.0->keras-tuner) (3.8.0)\n",
            "Requirement already satisfied: jax>=0.3.15 in /usr/local/lib/python3.9/dist-packages (from tensorflow>=2.0->keras-tuner) (0.4.7)\n",
            "Requirement already satisfied: google-pasta>=0.1.1 in /usr/local/lib/python3.9/dist-packages (from tensorflow>=2.0->keras-tuner) (0.2.0)\n",
            "Requirement already satisfied: keras<2.13,>=2.12.0 in /usr/local/lib/python3.9/dist-packages (from tensorflow>=2.0->keras-tuner) (2.12.0)\n",
            "Requirement already satisfied: typing-extensions>=3.6.6 in /usr/local/lib/python3.9/dist-packages (from tensorflow>=2.0->keras-tuner) (4.5.0)\n",
            "Requirement already satisfied: opt-einsum>=2.3.2 in /usr/local/lib/python3.9/dist-packages (from tensorflow>=2.0->keras-tuner) (3.3.0)\n",
            "Requirement already satisfied: six>=1.12.0 in /usr/local/lib/python3.9/dist-packages (from tensorflow>=2.0->keras-tuner) (1.16.0)\n",
            "Requirement already satisfied: libclang>=13.0.0 in /usr/local/lib/python3.9/dist-packages (from tensorflow>=2.0->keras-tuner) (16.0.0)\n",
            "Requirement already satisfied: astunparse>=1.6.0 in /usr/local/lib/python3.9/dist-packages (from tensorflow>=2.0->keras-tuner) (1.6.3)\n",
            "Requirement already satisfied: tensorflow-io-gcs-filesystem>=0.23.1 in /usr/local/lib/python3.9/dist-packages (from tensorflow>=2.0->keras-tuner) (0.32.0)\n",
            "Requirement already satisfied: wrapt<1.15,>=1.11.0 in /usr/local/lib/python3.9/dist-packages (from tensorflow>=2.0->keras-tuner) (1.14.1)\n",
            "Requirement already satisfied: termcolor>=1.1.0 in /usr/local/lib/python3.9/dist-packages (from tensorflow>=2.0->keras-tuner) (2.2.0)\n",
            "Requirement already satisfied: flatbuffers>=2.0 in /usr/local/lib/python3.9/dist-packages (from tensorflow>=2.0->keras-tuner) (23.3.3)\n",
            "Requirement already satisfied: absl-py>=1.0.0 in /usr/local/lib/python3.9/dist-packages (from tensorflow>=2.0->keras-tuner) (1.4.0)\n",
            "Requirement already satisfied: setuptools in /usr/local/lib/python3.9/dist-packages (from tensorflow>=2.0->keras-tuner) (67.6.1)\n",
            "Requirement already satisfied: tensorboard<2.13,>=2.12 in /usr/local/lib/python3.9/dist-packages (from tensorflow>=2.0->keras-tuner) (2.12.0)\n",
            "Requirement already satisfied: tensorflow-estimator<2.13,>=2.12.0 in /usr/local/lib/python3.9/dist-packages (from tensorflow>=2.0->keras-tuner) (2.12.0)\n",
            "Requirement already satisfied: gast<=0.4.0,>=0.2.1 in /usr/local/lib/python3.9/dist-packages (from tensorflow>=2.0->keras-tuner) (0.4.0)\n",
            "Requirement already satisfied: numpy<1.24,>=1.22 in /usr/local/lib/python3.9/dist-packages (from tensorflow>=2.0->keras-tuner) (1.22.4)\n",
            "Requirement already satisfied: grpcio<2.0,>=1.24.3 in /usr/local/lib/python3.9/dist-packages (from tensorflow>=2.0->keras-tuner) (1.53.0)\n",
            "Requirement already satisfied: charset-normalizer~=2.0.0 in /usr/local/lib/python3.9/dist-packages (from requests->keras-tuner) (2.0.12)\n",
            "Requirement already satisfied: idna<4,>=2.5 in /usr/local/lib/python3.9/dist-packages (from requests->keras-tuner) (3.4)\n",
            "Requirement already satisfied: certifi>=2017.4.17 in /usr/local/lib/python3.9/dist-packages (from requests->keras-tuner) (2022.12.7)\n",
            "Requirement already satisfied: urllib3<1.27,>=1.21.1 in /usr/local/lib/python3.9/dist-packages (from requests->keras-tuner) (1.26.15)\n",
            "Requirement already satisfied: wheel<1.0,>=0.23.0 in /usr/local/lib/python3.9/dist-packages (from astunparse>=1.6.0->tensorflow>=2.0->keras-tuner) (0.40.0)\n",
            "Requirement already satisfied: scipy>=1.7 in /usr/local/lib/python3.9/dist-packages (from jax>=0.3.15->tensorflow>=2.0->keras-tuner) (1.10.1)\n",
            "Requirement already satisfied: ml-dtypes>=0.0.3 in /usr/local/lib/python3.9/dist-packages (from jax>=0.3.15->tensorflow>=2.0->keras-tuner) (0.0.4)\n",
            "Requirement already satisfied: google-auth<3,>=1.6.3 in /usr/local/lib/python3.9/dist-packages (from tensorboard<2.13,>=2.12->tensorflow>=2.0->keras-tuner) (2.17.0)\n",
            "Requirement already satisfied: tensorboard-plugin-wit>=1.6.0 in /usr/local/lib/python3.9/dist-packages (from tensorboard<2.13,>=2.12->tensorflow>=2.0->keras-tuner) (1.8.1)\n",
            "Requirement already satisfied: werkzeug>=1.0.1 in /usr/local/lib/python3.9/dist-packages (from tensorboard<2.13,>=2.12->tensorflow>=2.0->keras-tuner) (2.2.3)\n",
            "Requirement already satisfied: markdown>=2.6.8 in /usr/local/lib/python3.9/dist-packages (from tensorboard<2.13,>=2.12->tensorflow>=2.0->keras-tuner) (3.4.3)\n",
            "Requirement already satisfied: google-auth-oauthlib<0.5,>=0.4.1 in /usr/local/lib/python3.9/dist-packages (from tensorboard<2.13,>=2.12->tensorflow>=2.0->keras-tuner) (0.4.6)\n",
            "Requirement already satisfied: tensorboard-data-server<0.8.0,>=0.7.0 in /usr/local/lib/python3.9/dist-packages (from tensorboard<2.13,>=2.12->tensorflow>=2.0->keras-tuner) (0.7.0)\n",
            "Requirement already satisfied: cachetools<6.0,>=2.0.0 in /usr/local/lib/python3.9/dist-packages (from google-auth<3,>=1.6.3->tensorboard<2.13,>=2.12->tensorflow>=2.0->keras-tuner) (5.3.0)\n",
            "Requirement already satisfied: pyasn1-modules>=0.2.1 in /usr/local/lib/python3.9/dist-packages (from google-auth<3,>=1.6.3->tensorboard<2.13,>=2.12->tensorflow>=2.0->keras-tuner) (0.2.8)\n",
            "Requirement already satisfied: rsa<5,>=3.1.4 in /usr/local/lib/python3.9/dist-packages (from google-auth<3,>=1.6.3->tensorboard<2.13,>=2.12->tensorflow>=2.0->keras-tuner) (4.9)\n",
            "Requirement already satisfied: requests-oauthlib>=0.7.0 in /usr/local/lib/python3.9/dist-packages (from google-auth-oauthlib<0.5,>=0.4.1->tensorboard<2.13,>=2.12->tensorflow>=2.0->keras-tuner) (1.3.1)\n",
            "Requirement already satisfied: importlib-metadata>=4.4 in /usr/local/lib/python3.9/dist-packages (from markdown>=2.6.8->tensorboard<2.13,>=2.12->tensorflow>=2.0->keras-tuner) (6.1.0)\n",
            "Requirement already satisfied: MarkupSafe>=2.1.1 in /usr/local/lib/python3.9/dist-packages (from werkzeug>=1.0.1->tensorboard<2.13,>=2.12->tensorflow>=2.0->keras-tuner) (2.1.2)\n",
            "Requirement already satisfied: zipp>=0.5 in /usr/local/lib/python3.9/dist-packages (from importlib-metadata>=4.4->markdown>=2.6.8->tensorboard<2.13,>=2.12->tensorflow>=2.0->keras-tuner) (3.15.0)\n",
            "Requirement already satisfied: pyasn1<0.5.0,>=0.4.6 in /usr/local/lib/python3.9/dist-packages (from pyasn1-modules>=0.2.1->google-auth<3,>=1.6.3->tensorboard<2.13,>=2.12->tensorflow>=2.0->keras-tuner) (0.4.8)\n",
            "Requirement already satisfied: oauthlib>=3.0.0 in /usr/local/lib/python3.9/dist-packages (from requests-oauthlib>=0.7.0->google-auth-oauthlib<0.5,>=0.4.1->tensorboard<2.13,>=2.12->tensorflow>=2.0->keras-tuner) (3.2.2)\n",
            "Installing collected packages: kt-legacy, keras-tuner\n",
            "Successfully installed keras-tuner-1.3.3 kt-legacy-1.0.4\n"
          ]
        }
      ],
      "source": [
        "!pip install keras-tuner --upgrade"
      ]
    },
    {
      "cell_type": "markdown",
      "source": [
        "# Import libraries"
      ],
      "metadata": {
        "id": "RJ4J0w_hmg2m"
      }
    },
    {
      "cell_type": "code",
      "source": [
        "import tensorflow as tf \n",
        "from tensorflow import keras\n",
        "from tensorflow.keras import layers\n",
        "import matplotlib.pyplot as plt\n",
        "import numpy as np\n",
        "from sklearn.model_selection import train_test_split\n",
        "from keras import metrics\n",
        "import keras_tuner\n",
        "import time\n",
        "import pandas as pd\n"
      ],
      "metadata": {
        "id": "zxNDY6meOKBG"
      },
      "execution_count": null,
      "outputs": []
    },
    {
      "cell_type": "markdown",
      "source": [
        "# train_test_split"
      ],
      "metadata": {
        "id": "AZn3WOULmm4Q"
      }
    },
    {
      "cell_type": "code",
      "source": [
        "(x_train, y_train), (x_test, y_test) = keras.datasets.cifar10.load_data()\n",
        "x=np.concatenate((x_train, x_test), axis=0)\n",
        "y=np.concatenate((y_train, y_test), axis=0)\n",
        "\n",
        "print(\"x.shape = \",x.shape)\n",
        "print(\"y.shape = \",y.shape)\n",
        "\n",
        "x_train, x_test, y_train, y_test = train_test_split(x,y,test_size=0.15 )\n",
        "\n",
        "print(\"X_train.shape = \",x_train.shape)\n",
        "print(\"y_train.shape = \",y_train.shape)\n",
        "print(\"X_test.shape = \",x_test.shape)\n",
        "print(\"y_test.shape = \",y_test.shape)"
      ],
      "metadata": {
        "colab": {
          "base_uri": "https://localhost:8080/"
        },
        "id": "a3HACs1XOMLm",
        "outputId": "a1c174f4-3058-40e0-da66-acb638546a92"
      },
      "execution_count": null,
      "outputs": [
        {
          "output_type": "stream",
          "name": "stdout",
          "text": [
            "Downloading data from https://www.cs.toronto.edu/~kriz/cifar-10-python.tar.gz\n",
            "170498071/170498071 [==============================] - 6s 0us/step\n",
            "x.shape =  (60000, 32, 32, 3)\n",
            "y.shape =  (60000, 1)\n",
            "X_train.shape =  (51000, 32, 32, 3)\n",
            "y_train.shape =  (51000, 1)\n",
            "X_test.shape =  (9000, 32, 32, 3)\n",
            "y_test.shape =  (9000, 1)\n"
          ]
        }
      ]
    },
    {
      "cell_type": "markdown",
      "source": [
        "# Normalization"
      ],
      "metadata": {
        "id": "ufZvH-wXmsdu"
      }
    },
    {
      "cell_type": "code",
      "source": [
        "x_train, x_test = x_train/255.0 , x_test/255.0"
      ],
      "metadata": {
        "id": "gbf4jGXoOSkt"
      },
      "execution_count": null,
      "outputs": []
    },
    {
      "cell_type": "markdown",
      "source": [
        "#define build_model function for use in keras tuner"
      ],
      "metadata": {
        "id": "HEpmSzIImvam"
      }
    },
    {
      "cell_type": "code",
      "source": [
        "def build_model(hp):\n",
        "    model = keras.Sequential()\n",
        "    model.add(layers.Flatten(input_shape=[32, 32, 3]))\n",
        "    model.add(\n",
        "        layers.Dense(\n",
        "            # Tune number of units.\n",
        "            units=hp.Int(\"units1\", min_value=32, max_value=512, step=32),\n",
        "            # Tune the activation function to use.\n",
        "            activation=hp.Choice(\"activation1\", [\"relu\", \"tanh\"]),\n",
        "        )\n",
        "    )\n",
        "    model.add(\n",
        "        layers.Dense(\n",
        "            # Tune number of units.\n",
        "            units=hp.Int(\"units2\", min_value=32, max_value=512, step=32),\n",
        "            # Tune the activation function to use.\n",
        "            activation=hp.Choice(\"activation2\", [\"relu\", \"tanh\"]),\n",
        "        )\n",
        "    )\n",
        "    model.add(\n",
        "        layers.Dense(\n",
        "            # Tune number of units.\n",
        "            units=hp.Int(\"units3\", min_value=32, max_value=512, step=32),\n",
        "            # Tune the activation function to use.\n",
        "            activation=hp.Choice(\"activation3\", [\"relu\", \"tanh\"]),\n",
        "        )\n",
        "    )\n",
        "    model.add(\n",
        "        layers.Dense(\n",
        "            # Tune number of units.\n",
        "            units=hp.Int(\"units4\", min_value=32, max_value=512, step=32),\n",
        "            # Tune the activation function to use.\n",
        "            activation=hp.Choice(\"activation4\", [\"relu\", \"tanh\"]),\n",
        "        )\n",
        "    )\n",
        "    model.add(layers.Dense(10, activation=\"softmax\"))\n",
        "\n",
        "    # Define the optimizer learning rate as a hyperparameter.\n",
        "    learning_rate = hp.Float(\"lr\", min_value=1e-4, max_value=1e-2, sampling=\"log\")\n",
        "\n",
        "    model.compile(\n",
        "        optimizer=keras.optimizers.Adam(learning_rate=learning_rate),\n",
        "        loss=\"sparse_categorical_crossentropy\",\n",
        "        metrics=[\"accuracy\"],\n",
        "    )\n",
        "    return model\n",
        "\n",
        "build_model(keras_tuner.HyperParameters())"
      ],
      "metadata": {
        "colab": {
          "base_uri": "https://localhost:8080/"
        },
        "id": "A4ElnNZVO71-",
        "outputId": "e824eb8f-b362-4a54-81fe-5025ac7550d0"
      },
      "execution_count": null,
      "outputs": [
        {
          "output_type": "execute_result",
          "data": {
            "text/plain": [
              "<keras.engine.sequential.Sequential at 0x7febec7cee50>"
            ]
          },
          "metadata": {},
          "execution_count": 5
        }
      ]
    },
    {
      "cell_type": "markdown",
      "source": [
        "#Keras Tuner "
      ],
      "metadata": {
        "id": "FLLr9K-Zm5Dj"
      }
    },
    {
      "cell_type": "code",
      "source": [
        "tuner = keras_tuner.RandomSearch(\n",
        "    hypermodel=build_model,\n",
        "    objective=\"val_accuracy\",\n",
        "    max_trials=3,\n",
        "    executions_per_trial=5,\n",
        "    overwrite=True,\n",
        "    directory=\"my_dir\",\n",
        "    project_name=\"helloworld\",\n",
        ")\n",
        "tuner.search_space_summary()"
      ],
      "metadata": {
        "colab": {
          "base_uri": "https://localhost:8080/"
        },
        "id": "J0_FhHucPplF",
        "outputId": "ba73f311-6cbd-4762-d786-a2338a259468"
      },
      "execution_count": null,
      "outputs": [
        {
          "output_type": "stream",
          "name": "stdout",
          "text": [
            "Search space summary\n",
            "Default search space size: 9\n",
            "units1 (Int)\n",
            "{'default': None, 'conditions': [], 'min_value': 32, 'max_value': 512, 'step': 32, 'sampling': 'linear'}\n",
            "activation1 (Choice)\n",
            "{'default': 'relu', 'conditions': [], 'values': ['relu', 'tanh'], 'ordered': False}\n",
            "units2 (Int)\n",
            "{'default': None, 'conditions': [], 'min_value': 32, 'max_value': 512, 'step': 32, 'sampling': 'linear'}\n",
            "activation2 (Choice)\n",
            "{'default': 'relu', 'conditions': [], 'values': ['relu', 'tanh'], 'ordered': False}\n",
            "units3 (Int)\n",
            "{'default': None, 'conditions': [], 'min_value': 32, 'max_value': 512, 'step': 32, 'sampling': 'linear'}\n",
            "activation3 (Choice)\n",
            "{'default': 'relu', 'conditions': [], 'values': ['relu', 'tanh'], 'ordered': False}\n",
            "units4 (Int)\n",
            "{'default': None, 'conditions': [], 'min_value': 32, 'max_value': 512, 'step': 32, 'sampling': 'linear'}\n",
            "activation4 (Choice)\n",
            "{'default': 'relu', 'conditions': [], 'values': ['relu', 'tanh'], 'ordered': False}\n",
            "lr (Float)\n",
            "{'default': 0.0001, 'conditions': [], 'min_value': 0.0001, 'max_value': 0.01, 'step': None, 'sampling': 'log'}\n"
          ]
        }
      ]
    },
    {
      "cell_type": "code",
      "source": [
        "x_train, x_val, y_train, y_val = train_test_split(x_train,y_train,test_size=0.15 )\n",
        "\n",
        "tuner.search(x_train, y_train, epochs=2, validation_data=(x_val, y_val))"
      ],
      "metadata": {
        "colab": {
          "base_uri": "https://localhost:8080/"
        },
        "id": "KBmtYqzYPuz-",
        "outputId": "54ade666-3563-4af8-a7fc-fb685bd700a7"
      },
      "execution_count": null,
      "outputs": [
        {
          "output_type": "stream",
          "name": "stdout",
          "text": [
            "Trial 3 Complete [00h 05m 05s]\n",
            "val_accuracy: 0.17853595018386842\n",
            "\n",
            "Best val_accuracy So Far: 0.17853595018386842\n",
            "Total elapsed time: 00h 14m 26s\n"
          ]
        }
      ]
    },
    {
      "cell_type": "code",
      "source": [
        "tuner.results_summary()\n",
        "# Get the top 2 hyperparameters.\n",
        "best_hps = tuner.get_best_hyperparameters(2)\n",
        "print(best_hps[0].values)\n",
        "# Build the model with the best hp.\n",
        "best_model = build_model(best_hps[0])\n",
        "best_model.summary()\n"
      ],
      "metadata": {
        "colab": {
          "base_uri": "https://localhost:8080/"
        },
        "id": "CzV7XLthQECN",
        "outputId": "378cd52d-efe8-4d84-f4b3-79bd16381b32"
      },
      "execution_count": null,
      "outputs": [
        {
          "output_type": "stream",
          "name": "stdout",
          "text": [
            "Results summary\n",
            "Results in my_dir/helloworld\n",
            "Showing 10 best trials\n",
            "Objective(name=\"val_accuracy\", direction=\"max\")\n",
            "\n",
            "Trial 2 summary\n",
            "Hyperparameters:\n",
            "units1: 320\n",
            "activation1: tanh\n",
            "units2: 256\n",
            "activation2: tanh\n",
            "units3: 64\n",
            "activation3: relu\n",
            "units4: 128\n",
            "activation4: tanh\n",
            "lr: 0.0015330327320497972\n",
            "Score: 0.17853595018386842\n",
            "\n",
            "Trial 1 summary\n",
            "Hyperparameters:\n",
            "units1: 32\n",
            "activation1: relu\n",
            "units2: 480\n",
            "activation2: relu\n",
            "units3: 352\n",
            "activation3: tanh\n",
            "units4: 192\n",
            "activation4: relu\n",
            "lr: 0.0017314000248943061\n",
            "Score: 0.15320261865854262\n",
            "\n",
            "Trial 0 summary\n",
            "Hyperparameters:\n",
            "units1: 384\n",
            "activation1: tanh\n",
            "units2: 224\n",
            "activation2: relu\n",
            "units3: 320\n",
            "activation3: relu\n",
            "units4: 256\n",
            "activation4: tanh\n",
            "lr: 0.0054596401704574485\n",
            "Score: 0.10237908512353897\n",
            "{'units1': 320, 'activation1': 'tanh', 'units2': 256, 'activation2': 'tanh', 'units3': 64, 'activation3': 'relu', 'units4': 128, 'activation4': 'tanh', 'lr': 0.0015330327320497972}\n",
            "Model: \"sequential_1\"\n",
            "_________________________________________________________________\n",
            " Layer (type)                Output Shape              Param #   \n",
            "=================================================================\n",
            " flatten_1 (Flatten)         (None, 3072)              0         \n",
            "                                                                 \n",
            " dense_5 (Dense)             (None, 320)               983360    \n",
            "                                                                 \n",
            " dense_6 (Dense)             (None, 256)               82176     \n",
            "                                                                 \n",
            " dense_7 (Dense)             (None, 64)                16448     \n",
            "                                                                 \n",
            " dense_8 (Dense)             (None, 128)               8320      \n",
            "                                                                 \n",
            " dense_9 (Dense)             (None, 10)                1290      \n",
            "                                                                 \n",
            "=================================================================\n",
            "Total params: 1,091,594\n",
            "Trainable params: 1,091,594\n",
            "Non-trainable params: 0\n",
            "_________________________________________________________________\n"
          ]
        }
      ]
    },
    {
      "cell_type": "markdown",
      "source": [
        "#Fit and Plot the best model found so far"
      ],
      "metadata": {
        "id": "wI-OMbaNm_-m"
      }
    },
    {
      "cell_type": "code",
      "source": [
        "# Fit with the entire dataset.\n",
        "x_all = np.concatenate((x_train, x_val))\n",
        "y_all = np.concatenate((y_train, y_val))\n",
        "\n",
        "best_model_history = best_model.fit(x=x_all, y=y_all,  batch_size=32 , epochs=50, validation_split=0.1)\n",
        "\n",
        "fig, ax = plt.subplots(figsize=(12, 5))\n",
        "ax.plot(best_model_history.history['loss'], label='train loss')\n",
        "ax.plot(best_model_history.history['accuracy'], label='train accuracy')\n",
        "ax.plot(best_model_history.history['val_loss'], label='validation loss')\n",
        "ax.plot(best_model_history.history['val_accuracy'], label='validation accuracy')\n",
        "ax.legend()"
      ],
      "metadata": {
        "colab": {
          "base_uri": "https://localhost:8080/",
          "height": 1000
        },
        "id": "STHyCx3vQRZ9",
        "outputId": "23e8e087-1772-43d4-9c60-54f14ab8458a"
      },
      "execution_count": null,
      "outputs": [
        {
          "output_type": "stream",
          "name": "stdout",
          "text": [
            "Epoch 1/50\n",
            "1435/1435 [==============================] - 22s 15ms/step - loss: 2.1479 - accuracy: 0.1631 - val_loss: 2.0646 - val_accuracy: 0.1851\n",
            "Epoch 2/50\n",
            "1435/1435 [==============================] - 21s 15ms/step - loss: 2.1132 - accuracy: 0.1710 - val_loss: 2.0915 - val_accuracy: 0.1827\n",
            "Epoch 3/50\n",
            "1435/1435 [==============================] - 20s 14ms/step - loss: 2.1052 - accuracy: 0.1715 - val_loss: 2.0752 - val_accuracy: 0.1937\n",
            "Epoch 4/50\n",
            "1435/1435 [==============================] - 21s 15ms/step - loss: 2.0963 - accuracy: 0.1754 - val_loss: 2.1384 - val_accuracy: 0.1678\n",
            "Epoch 5/50\n",
            "1435/1435 [==============================] - 20s 14ms/step - loss: 2.0887 - accuracy: 0.1788 - val_loss: 2.0736 - val_accuracy: 0.1880\n",
            "Epoch 6/50\n",
            "1435/1435 [==============================] - 21s 15ms/step - loss: 2.0956 - accuracy: 0.1758 - val_loss: 2.1064 - val_accuracy: 0.1757\n",
            "Epoch 7/50\n",
            "1435/1435 [==============================] - 22s 16ms/step - loss: 2.0897 - accuracy: 0.1775 - val_loss: 2.0984 - val_accuracy: 0.1718\n",
            "Epoch 8/50\n",
            "1435/1435 [==============================] - 21s 15ms/step - loss: 2.0827 - accuracy: 0.1814 - val_loss: 2.0810 - val_accuracy: 0.1820\n",
            "Epoch 9/50\n",
            "1435/1435 [==============================] - 20s 14ms/step - loss: 2.0766 - accuracy: 0.1822 - val_loss: 2.0595 - val_accuracy: 0.1753\n",
            "Epoch 10/50\n",
            "1435/1435 [==============================] - 21s 14ms/step - loss: 2.0758 - accuracy: 0.1845 - val_loss: 2.0599 - val_accuracy: 0.1800\n",
            "Epoch 11/50\n",
            "1435/1435 [==============================] - 20s 14ms/step - loss: 2.0753 - accuracy: 0.1848 - val_loss: 2.0537 - val_accuracy: 0.1890\n",
            "Epoch 12/50\n",
            "1435/1435 [==============================] - 21s 14ms/step - loss: 2.0713 - accuracy: 0.1887 - val_loss: 2.0561 - val_accuracy: 0.1953\n",
            "Epoch 13/50\n",
            "1435/1435 [==============================] - 20s 14ms/step - loss: 2.0708 - accuracy: 0.1871 - val_loss: 2.0507 - val_accuracy: 0.1894\n",
            "Epoch 14/50\n",
            "1435/1435 [==============================] - 20s 14ms/step - loss: 2.0712 - accuracy: 0.1861 - val_loss: 2.0584 - val_accuracy: 0.1943\n",
            "Epoch 15/50\n",
            "1435/1435 [==============================] - 20s 14ms/step - loss: 2.0886 - accuracy: 0.1830 - val_loss: 2.0788 - val_accuracy: 0.1916\n",
            "Epoch 16/50\n",
            "1435/1435 [==============================] - 19s 13ms/step - loss: 2.0870 - accuracy: 0.1834 - val_loss: 2.0685 - val_accuracy: 0.1933\n",
            "Epoch 17/50\n",
            "1435/1435 [==============================] - 20s 14ms/step - loss: 2.0780 - accuracy: 0.1867 - val_loss: 2.0799 - val_accuracy: 0.1916\n",
            "Epoch 18/50\n",
            "1435/1435 [==============================] - 20s 14ms/step - loss: 2.0743 - accuracy: 0.1853 - val_loss: 2.0691 - val_accuracy: 0.1941\n",
            "Epoch 19/50\n",
            "1435/1435 [==============================] - 21s 14ms/step - loss: 2.0745 - accuracy: 0.1905 - val_loss: 2.0945 - val_accuracy: 0.1780\n",
            "Epoch 20/50\n",
            "1435/1435 [==============================] - 20s 14ms/step - loss: 2.0749 - accuracy: 0.1872 - val_loss: 2.0500 - val_accuracy: 0.1929\n",
            "Epoch 21/50\n",
            "1435/1435 [==============================] - 20s 14ms/step - loss: 2.0674 - accuracy: 0.1888 - val_loss: 2.0545 - val_accuracy: 0.1924\n",
            "Epoch 22/50\n",
            "1435/1435 [==============================] - 21s 15ms/step - loss: 2.0761 - accuracy: 0.1855 - val_loss: 2.0632 - val_accuracy: 0.1927\n",
            "Epoch 23/50\n",
            "1435/1435 [==============================] - 21s 14ms/step - loss: 2.0668 - accuracy: 0.1926 - val_loss: 2.0660 - val_accuracy: 0.1876\n",
            "Epoch 24/50\n",
            "1435/1435 [==============================] - 22s 15ms/step - loss: 2.0640 - accuracy: 0.1910 - val_loss: 2.0405 - val_accuracy: 0.1971\n",
            "Epoch 25/50\n",
            "1435/1435 [==============================] - 22s 16ms/step - loss: 2.0642 - accuracy: 0.1910 - val_loss: 2.0502 - val_accuracy: 0.1896\n",
            "Epoch 26/50\n",
            "1435/1435 [==============================] - 22s 15ms/step - loss: 2.0801 - accuracy: 0.1820 - val_loss: 2.0460 - val_accuracy: 0.1969\n",
            "Epoch 27/50\n",
            "1435/1435 [==============================] - 21s 15ms/step - loss: 2.0804 - accuracy: 0.1843 - val_loss: 2.0960 - val_accuracy: 0.1816\n",
            "Epoch 28/50\n",
            "1435/1435 [==============================] - 22s 15ms/step - loss: 2.0781 - accuracy: 0.1817 - val_loss: 2.0713 - val_accuracy: 0.1875\n",
            "Epoch 29/50\n",
            "1435/1435 [==============================] - 22s 16ms/step - loss: 2.0667 - accuracy: 0.1892 - val_loss: 2.0483 - val_accuracy: 0.1918\n",
            "Epoch 30/50\n",
            "1435/1435 [==============================] - 21s 14ms/step - loss: 2.0700 - accuracy: 0.1860 - val_loss: 2.0624 - val_accuracy: 0.1678\n",
            "Epoch 31/50\n",
            "1435/1435 [==============================] - 23s 16ms/step - loss: 2.0682 - accuracy: 0.1875 - val_loss: 2.0578 - val_accuracy: 0.1814\n",
            "Epoch 32/50\n",
            "1435/1435 [==============================] - 24s 16ms/step - loss: 2.0757 - accuracy: 0.1861 - val_loss: 2.0856 - val_accuracy: 0.1575\n",
            "Epoch 33/50\n",
            "1435/1435 [==============================] - 23s 16ms/step - loss: 2.0887 - accuracy: 0.1842 - val_loss: 2.0579 - val_accuracy: 0.1925\n",
            "Epoch 34/50\n",
            "1435/1435 [==============================] - 23s 16ms/step - loss: 2.0817 - accuracy: 0.1853 - val_loss: 2.0687 - val_accuracy: 0.1924\n",
            "Epoch 35/50\n",
            "1435/1435 [==============================] - 21s 15ms/step - loss: 2.0738 - accuracy: 0.1869 - val_loss: 2.0558 - val_accuracy: 0.1929\n",
            "Epoch 36/50\n",
            "1435/1435 [==============================] - 23s 16ms/step - loss: 2.0805 - accuracy: 0.1837 - val_loss: 2.1111 - val_accuracy: 0.1712\n",
            "Epoch 37/50\n",
            "1435/1435 [==============================] - 24s 16ms/step - loss: 2.0767 - accuracy: 0.1875 - val_loss: 2.0788 - val_accuracy: 0.1855\n",
            "Epoch 38/50\n",
            "1435/1435 [==============================] - 24s 17ms/step - loss: 2.0826 - accuracy: 0.1837 - val_loss: 2.0497 - val_accuracy: 0.2057\n",
            "Epoch 39/50\n",
            "1435/1435 [==============================] - 22s 15ms/step - loss: 2.0823 - accuracy: 0.1834 - val_loss: 2.0908 - val_accuracy: 0.1676\n",
            "Epoch 40/50\n",
            "1435/1435 [==============================] - 23s 16ms/step - loss: 2.0829 - accuracy: 0.1815 - val_loss: 2.0748 - val_accuracy: 0.1796\n",
            "Epoch 41/50\n",
            "1435/1435 [==============================] - 22s 16ms/step - loss: 2.0736 - accuracy: 0.1877 - val_loss: 2.0588 - val_accuracy: 0.1971\n",
            "Epoch 42/50\n",
            "1435/1435 [==============================] - 20s 14ms/step - loss: 2.0777 - accuracy: 0.1845 - val_loss: 2.0601 - val_accuracy: 0.1922\n",
            "Epoch 43/50\n",
            "1435/1435 [==============================] - 21s 15ms/step - loss: 2.0709 - accuracy: 0.1853 - val_loss: 2.0515 - val_accuracy: 0.1841\n",
            "Epoch 44/50\n",
            "1435/1435 [==============================] - 21s 15ms/step - loss: 2.0807 - accuracy: 0.1859 - val_loss: 2.0644 - val_accuracy: 0.1873\n",
            "Epoch 45/50\n",
            "1435/1435 [==============================] - 20s 14ms/step - loss: 2.0808 - accuracy: 0.1850 - val_loss: 2.0701 - val_accuracy: 0.1890\n",
            "Epoch 46/50\n",
            "1435/1435 [==============================] - 21s 15ms/step - loss: 2.0761 - accuracy: 0.1858 - val_loss: 2.0887 - val_accuracy: 0.1688\n",
            "Epoch 47/50\n",
            "1435/1435 [==============================] - 22s 15ms/step - loss: 2.0813 - accuracy: 0.1850 - val_loss: 2.0729 - val_accuracy: 0.1825\n",
            "Epoch 48/50\n",
            "1435/1435 [==============================] - 21s 14ms/step - loss: 2.0782 - accuracy: 0.1870 - val_loss: 2.0864 - val_accuracy: 0.1784\n",
            "Epoch 49/50\n",
            "1435/1435 [==============================] - 22s 15ms/step - loss: 2.0717 - accuracy: 0.1872 - val_loss: 2.0746 - val_accuracy: 0.1771\n",
            "Epoch 50/50\n",
            "1435/1435 [==============================] - 22s 15ms/step - loss: 2.0779 - accuracy: 0.1848 - val_loss: 2.0837 - val_accuracy: 0.1763\n"
          ]
        },
        {
          "output_type": "execute_result",
          "data": {
            "text/plain": [
              "<matplotlib.legend.Legend at 0x7febee770700>"
            ]
          },
          "metadata": {},
          "execution_count": 9
        },
        {
          "output_type": "display_data",
          "data": {
            "text/plain": [
              "<Figure size 864x360 with 1 Axes>"
            ],
            "image/png": "[encoded data removed]"
          },
          "metadata": {
            "needs_background": "light"
          }
        }
      ]
    },
    {
      "cell_type": "code",
      "source": [
        "print(best_hps[0].values)\n",
        "print(best_model.evaluate(x_test, y_test, verbose=1, return_dict=True))\n"
      ],
      "metadata": {
        "colab": {
          "base_uri": "https://localhost:8080/"
        },
        "id": "4GQJdQsEQoBG",
        "outputId": "b4f5408a-e5ea-407b-d824-4dadf0bc399e"
      },
      "execution_count": null,
      "outputs": [
        {
          "output_type": "stream",
          "name": "stdout",
          "text": [
            "{'units1': 320, 'activation1': 'tanh', 'units2': 256, 'activation2': 'tanh', 'units3': 64, 'activation3': 'relu', 'units4': 128, 'activation4': 'tanh', 'lr': 0.0015330327320497972}\n",
            "282/282 [==============================] - 1s 4ms/step - loss: 2.0708 - accuracy: 0.1846\n",
            "{'loss': 2.0708205699920654, 'accuracy': 0.1845555603504181}\n"
          ]
        }
      ]
    },
    {
      "cell_type": "markdown",
      "source": [
        "# change model properties to be self normalize (Selu and Lecun)"
      ],
      "metadata": {
        "id": "I811zLXInJwW"
      }
    },
    {
      "cell_type": "code",
      "source": [
        "best_model_withSelu = keras.models.Sequential([\n",
        "  keras.layers.Flatten(input_shape=[32, 32, 3]),\n",
        "  keras.layers.Dense(160, activation =\"selu\", kernel_initializer='lecun_normal'),\n",
        "  keras.layers.Dense(352, activation='selu', kernel_initializer='lecun_normal'),\n",
        "  keras.layers.Dense(512, activation='selu', kernel_initializer='lecun_normal'),\n",
        "  keras.layers.Dense(384, activation='selu', kernel_initializer='lecun_normal'),\n",
        "  keras.layers.Dense(10, activation=\"softmax\")\n",
        "])\n",
        "\n",
        "print(best_model_withSelu.summary())\n",
        "lr = 0.00032699677404287816\n",
        "best_model_withSelu.compile(\n",
        "        optimizer=keras.optimizers.Adam(learning_rate=lr),\n",
        "        loss=\"sparse_categorical_crossentropy\",\n",
        "        metrics=[\"accuracy\"],\n",
        "    )\n"
      ],
      "metadata": {
        "colab": {
          "base_uri": "https://localhost:8080/"
        },
        "id": "z9vRZjr6RAP9",
        "outputId": "74e2fa30-40a0-4304-c40e-190464073fa9"
      },
      "execution_count": null,
      "outputs": [
        {
          "output_type": "stream",
          "name": "stdout",
          "text": [
            "Model: \"sequential_2\"\n",
            "_________________________________________________________________\n",
            " Layer (type)                Output Shape              Param #   \n",
            "=================================================================\n",
            " flatten_2 (Flatten)         (None, 3072)              0         \n",
            "                                                                 \n",
            " dense_10 (Dense)            (None, 160)               491680    \n",
            "                                                                 \n",
            " dense_11 (Dense)            (None, 352)               56672     \n",
            "                                                                 \n",
            " dense_12 (Dense)            (None, 512)               180736    \n",
            "                                                                 \n",
            " dense_13 (Dense)            (None, 384)               196992    \n",
            "                                                                 \n",
            " dense_14 (Dense)            (None, 10)                3850      \n",
            "                                                                 \n",
            "=================================================================\n",
            "Total params: 929,930\n",
            "Trainable params: 929,930\n",
            "Non-trainable params: 0\n",
            "_________________________________________________________________\n",
            "None\n"
          ]
        }
      ]
    },
    {
      "cell_type": "code",
      "source": [
        "best_model_withSelu_history = best_model_withSelu.fit(x_all, y_all, batch_size=32 , epochs=50, validation_split=0.1)\n",
        "print(best_model_withSelu_history.history)"
      ],
      "metadata": {
        "colab": {
          "base_uri": "https://localhost:8080/"
        },
        "id": "XAVaefVmRn--",
        "outputId": "d6c69438-547e-4d93-b3c7-061b560db36b"
      },
      "execution_count": null,
      "outputs": [
        {
          "output_type": "stream",
          "name": "stdout",
          "text": [
            "Epoch 1/50\n",
            "1435/1435 [==============================] - 26s 18ms/step - loss: 1.9266 - accuracy: 0.3157 - val_loss: 1.7735 - val_accuracy: 0.3678\n",
            "Epoch 2/50\n",
            "1435/1435 [==============================] - 22s 15ms/step - loss: 1.6870 - accuracy: 0.3973 - val_loss: 1.7349 - val_accuracy: 0.3680\n",
            "Epoch 3/50\n",
            "1435/1435 [==============================] - 20s 14ms/step - loss: 1.5906 - accuracy: 0.4348 - val_loss: 1.5762 - val_accuracy: 0.4306\n",
            "Epoch 4/50\n",
            "1435/1435 [==============================] - 21s 15ms/step - loss: 1.5216 - accuracy: 0.4570 - val_loss: 1.6003 - val_accuracy: 0.4337\n",
            "Epoch 5/50\n",
            "1435/1435 [==============================] - 26s 18ms/step - loss: 1.4657 - accuracy: 0.4738 - val_loss: 1.4914 - val_accuracy: 0.4741\n",
            "Epoch 6/50\n",
            "1435/1435 [==============================] - 24s 16ms/step - loss: 1.4218 - accuracy: 0.4918 - val_loss: 1.4676 - val_accuracy: 0.4727\n",
            "Epoch 7/50\n",
            "1435/1435 [==============================] - 20s 14ms/step - loss: 1.3643 - accuracy: 0.5118 - val_loss: 1.4445 - val_accuracy: 0.4825\n",
            "Epoch 8/50\n",
            "1435/1435 [==============================] - 22s 15ms/step - loss: 1.3184 - accuracy: 0.5268 - val_loss: 1.4500 - val_accuracy: 0.4776\n",
            "Epoch 9/50\n",
            "1435/1435 [==============================] - 22s 15ms/step - loss: 1.2788 - accuracy: 0.5436 - val_loss: 1.3971 - val_accuracy: 0.4949\n",
            "Epoch 10/50\n",
            "1435/1435 [==============================] - 20s 14ms/step - loss: 1.2281 - accuracy: 0.5615 - val_loss: 1.3871 - val_accuracy: 0.5100\n",
            "Epoch 11/50\n",
            "1435/1435 [==============================] - 21s 15ms/step - loss: 1.1833 - accuracy: 0.5729 - val_loss: 1.4538 - val_accuracy: 0.4837\n",
            "Epoch 12/50\n",
            "1435/1435 [==============================] - 21s 15ms/step - loss: 1.1379 - accuracy: 0.5893 - val_loss: 1.5006 - val_accuracy: 0.4855\n",
            "Epoch 13/50\n",
            "1435/1435 [==============================] - 21s 15ms/step - loss: 1.0831 - accuracy: 0.6128 - val_loss: 1.4375 - val_accuracy: 0.5137\n",
            "Epoch 14/50\n",
            "1435/1435 [==============================] - 22s 15ms/step - loss: 1.0375 - accuracy: 0.6263 - val_loss: 1.4542 - val_accuracy: 0.5057\n",
            "Epoch 15/50\n",
            "1435/1435 [==============================] - 22s 16ms/step - loss: 0.9851 - accuracy: 0.6443 - val_loss: 1.5253 - val_accuracy: 0.5000\n",
            "Epoch 16/50\n",
            "1435/1435 [==============================] - 22s 16ms/step - loss: 0.9310 - accuracy: 0.6628 - val_loss: 1.4813 - val_accuracy: 0.5173\n",
            "Epoch 17/50\n",
            "1435/1435 [==============================] - 21s 15ms/step - loss: 0.8860 - accuracy: 0.6788 - val_loss: 1.5309 - val_accuracy: 0.5220\n",
            "Epoch 18/50\n",
            "1435/1435 [==============================] - 21s 15ms/step - loss: 0.8338 - accuracy: 0.6971 - val_loss: 1.5745 - val_accuracy: 0.5133\n",
            "Epoch 19/50\n",
            "1435/1435 [==============================] - 22s 15ms/step - loss: 0.7838 - accuracy: 0.7162 - val_loss: 1.6016 - val_accuracy: 0.5218\n",
            "Epoch 20/50\n",
            "1435/1435 [==============================] - 20s 14ms/step - loss: 0.7260 - accuracy: 0.7359 - val_loss: 1.6569 - val_accuracy: 0.5190\n",
            "Epoch 21/50\n",
            "1435/1435 [==============================] - 21s 15ms/step - loss: 0.6883 - accuracy: 0.7492 - val_loss: 1.7064 - val_accuracy: 0.5333\n",
            "Epoch 22/50\n",
            "1435/1435 [==============================] - 20s 14ms/step - loss: 0.6375 - accuracy: 0.7680 - val_loss: 1.7864 - val_accuracy: 0.5045\n",
            "Epoch 23/50\n",
            "1435/1435 [==============================] - 21s 15ms/step - loss: 0.5874 - accuracy: 0.7877 - val_loss: 1.8908 - val_accuracy: 0.5086\n",
            "Epoch 24/50\n",
            "1435/1435 [==============================] - 21s 15ms/step - loss: 0.5427 - accuracy: 0.8032 - val_loss: 1.9468 - val_accuracy: 0.5131\n",
            "Epoch 25/50\n",
            "1435/1435 [==============================] - 19s 14ms/step - loss: 0.5022 - accuracy: 0.8187 - val_loss: 1.9754 - val_accuracy: 0.5231\n",
            "Epoch 26/50\n",
            "1435/1435 [==============================] - 20s 14ms/step - loss: 0.4725 - accuracy: 0.8277 - val_loss: 2.0245 - val_accuracy: 0.5237\n",
            "Epoch 27/50\n",
            "1435/1435 [==============================] - 20s 14ms/step - loss: 0.4379 - accuracy: 0.8415 - val_loss: 2.2958 - val_accuracy: 0.5004\n",
            "Epoch 28/50\n",
            "1435/1435 [==============================] - 21s 14ms/step - loss: 0.4106 - accuracy: 0.8497 - val_loss: 2.3434 - val_accuracy: 0.5063\n",
            "Epoch 29/50\n",
            "1435/1435 [==============================] - 20s 14ms/step - loss: 0.3851 - accuracy: 0.8601 - val_loss: 2.3788 - val_accuracy: 0.5222\n",
            "Epoch 30/50\n",
            "1435/1435 [==============================] - 20s 14ms/step - loss: 0.3571 - accuracy: 0.8693 - val_loss: 2.4836 - val_accuracy: 0.5120\n",
            "Epoch 31/50\n",
            "1435/1435 [==============================] - 20s 14ms/step - loss: 0.3355 - accuracy: 0.8784 - val_loss: 2.5526 - val_accuracy: 0.5161\n",
            "Epoch 32/50\n",
            "1435/1435 [==============================] - 20s 14ms/step - loss: 0.3210 - accuracy: 0.8827 - val_loss: 2.7296 - val_accuracy: 0.5092\n",
            "Epoch 33/50\n",
            "1435/1435 [==============================] - 21s 15ms/step - loss: 0.2930 - accuracy: 0.8942 - val_loss: 2.7367 - val_accuracy: 0.5033\n",
            "Epoch 34/50\n",
            "1435/1435 [==============================] - 22s 15ms/step - loss: 0.2920 - accuracy: 0.8947 - val_loss: 2.9392 - val_accuracy: 0.5145\n",
            "Epoch 35/50\n",
            "1435/1435 [==============================] - 20s 14ms/step - loss: 0.2655 - accuracy: 0.9059 - val_loss: 2.8889 - val_accuracy: 0.5041\n",
            "Epoch 36/50\n",
            "1435/1435 [==============================] - 21s 14ms/step - loss: 0.2722 - accuracy: 0.9026 - val_loss: 2.8757 - val_accuracy: 0.5108\n",
            "Epoch 37/50\n",
            "1435/1435 [==============================] - 21s 15ms/step - loss: 0.2543 - accuracy: 0.9100 - val_loss: 3.0435 - val_accuracy: 0.5000\n",
            "Epoch 38/50\n",
            "1435/1435 [==============================] - 21s 15ms/step - loss: 0.2409 - accuracy: 0.9142 - val_loss: 3.2402 - val_accuracy: 0.5075\n",
            "Epoch 39/50\n",
            "1435/1435 [==============================] - 22s 15ms/step - loss: 0.2342 - accuracy: 0.9172 - val_loss: 3.3743 - val_accuracy: 0.5027\n",
            "Epoch 40/50\n",
            "1435/1435 [==============================] - 22s 16ms/step - loss: 0.2352 - accuracy: 0.9185 - val_loss: 3.1418 - val_accuracy: 0.5080\n",
            "Epoch 41/50\n",
            "1435/1435 [==============================] - 21s 15ms/step - loss: 0.2154 - accuracy: 0.9233 - val_loss: 3.4125 - val_accuracy: 0.4945\n",
            "Epoch 42/50\n",
            "1435/1435 [==============================] - 22s 16ms/step - loss: 0.2212 - accuracy: 0.9205 - val_loss: 3.4583 - val_accuracy: 0.5112\n",
            "Epoch 43/50\n",
            "1435/1435 [==============================] - 22s 15ms/step - loss: 0.2074 - accuracy: 0.9269 - val_loss: 3.3317 - val_accuracy: 0.5078\n",
            "Epoch 44/50\n",
            "1435/1435 [==============================] - 23s 16ms/step - loss: 0.2045 - accuracy: 0.9281 - val_loss: 3.4903 - val_accuracy: 0.5024\n",
            "Epoch 45/50\n",
            "1435/1435 [==============================] - 24s 17ms/step - loss: 0.2003 - accuracy: 0.9298 - val_loss: 3.7064 - val_accuracy: 0.5039\n",
            "Epoch 46/50\n",
            "1435/1435 [==============================] - 25s 17ms/step - loss: 0.1904 - accuracy: 0.9343 - val_loss: 3.7520 - val_accuracy: 0.5118\n",
            "Epoch 47/50\n",
            "1435/1435 [==============================] - 23s 16ms/step - loss: 0.1895 - accuracy: 0.9355 - val_loss: 3.6271 - val_accuracy: 0.5006\n",
            "Epoch 48/50\n",
            "1435/1435 [==============================] - 22s 15ms/step - loss: 0.1752 - accuracy: 0.9405 - val_loss: 3.5155 - val_accuracy: 0.5108\n",
            "Epoch 49/50\n",
            "1435/1435 [==============================] - 21s 15ms/step - loss: 0.1923 - accuracy: 0.9338 - val_loss: 3.7505 - val_accuracy: 0.4988\n",
            "Epoch 50/50\n",
            "1435/1435 [==============================] - 21s 15ms/step - loss: 0.1708 - accuracy: 0.9402 - val_loss: 3.8967 - val_accuracy: 0.4986\n",
            "{'loss': [1.9266120195388794, 1.6869908571243286, 1.5905795097351074, 1.5216196775436401, 1.4657385349273682, 1.4217644929885864, 1.3642855882644653, 1.3184332847595215, 1.278800368309021, 1.228073239326477, 1.1832771301269531, 1.1378837823867798, 1.0831265449523926, 1.037461757659912, 0.985085129737854, 0.9309996962547302, 0.8859906196594238, 0.8338447213172913, 0.7838422656059265, 0.7260217666625977, 0.6883482933044434, 0.6374773383140564, 0.5874177813529968, 0.5426515340805054, 0.5022177696228027, 0.47252944111824036, 0.4379435181617737, 0.41056185960769653, 0.3851354122161865, 0.35709893703460693, 0.33546894788742065, 0.3209933638572693, 0.292990118265152, 0.29196977615356445, 0.2655414640903473, 0.2721653878688812, 0.25434327125549316, 0.24087239801883698, 0.2341676950454712, 0.23522895574569702, 0.2154478132724762, 0.22124314308166504, 0.20744094252586365, 0.2045278400182724, 0.20034843683242798, 0.1904430240392685, 0.18946979939937592, 0.17522644996643066, 0.19228233397006989, 0.17075759172439575], 'accuracy': [0.31568628549575806, 0.3973420560359955, 0.43483659625053406, 0.456971675157547, 0.47381263971328735, 0.491830050945282, 0.5117865204811096, 0.5267974138259888, 0.543616533279419, 0.5615250468254089, 0.5728976130485535, 0.5892592668533325, 0.6128104329109192, 0.6262527108192444, 0.6442919373512268, 0.6628322601318359, 0.6787799596786499, 0.6971023678779602, 0.7162091732025146, 0.7358823418617249, 0.7491720914840698, 0.7679520845413208, 0.7876688241958618, 0.8031808137893677, 0.8187146186828613, 0.8277124166488647, 0.8415250778198242, 0.8497385382652283, 0.8601307272911072, 0.8693246245384216, 0.8783878087997437, 0.8827015161514282, 0.8941829800605774, 0.8947494626045227, 0.9059041142463684, 0.9026143550872803, 0.9100217819213867, 0.9142047762870789, 0.9171677827835083, 0.9185402989387512, 0.9232679605484009, 0.9205011129379272, 0.9268627166748047, 0.9281481504440308, 0.9298257231712341, 0.9342919588088989, 0.9355120062828064, 0.9405228495597839, 0.9338126182556152, 0.9401742815971375], 'val_loss': [1.7734596729278564, 1.7349011898040771, 1.5762487649917603, 1.6003140211105347, 1.4914131164550781, 1.467642903327942, 1.4445325136184692, 1.4500006437301636, 1.3971269130706787, 1.387137532234192, 1.4538309574127197, 1.5006200075149536, 1.4374732971191406, 1.4542428255081177, 1.5253338813781738, 1.481341004371643, 1.530890703201294, 1.5744729042053223, 1.6016334295272827, 1.656907320022583, 1.7063617706298828, 1.7863798141479492, 1.8907873630523682, 1.9468101263046265, 1.9754159450531006, 2.0245261192321777, 2.29581618309021, 2.3433589935302734, 2.3788297176361084, 2.4835879802703857, 2.552558660507202, 2.7295806407928467, 2.736691951751709, 2.939246416091919, 2.888868808746338, 2.875749111175537, 3.043468952178955, 3.2402071952819824, 3.3743176460266113, 3.1417713165283203, 3.4124724864959717, 3.4582901000976562, 3.3316826820373535, 3.4902913570404053, 3.7064483165740967, 3.751997232437134, 3.627129554748535, 3.5154874324798584, 3.7504897117614746, 3.896663188934326], 'val_accuracy': [0.3678431510925293, 0.36803922057151794, 0.4305882453918457, 0.4337254762649536, 0.474117636680603, 0.4727450907230377, 0.4825490117073059, 0.477647066116333, 0.49490195512771606, 0.5099999904632568, 0.48372548818588257, 0.48549020290374756, 0.5137255191802979, 0.5056862831115723, 0.5, 0.5172548890113831, 0.5219607949256897, 0.5133333206176758, 0.5217646956443787, 0.519019603729248, 0.5333333611488342, 0.5045098066329956, 0.5086274743080139, 0.5131372809410095, 0.5231372714042664, 0.5237255096435547, 0.5003921389579773, 0.5062745213508606, 0.522156834602356, 0.5119608044624329, 0.5160784125328064, 0.5092157125473022, 0.503333330154419, 0.5145097970962524, 0.5041176676750183, 0.5107843279838562, 0.5, 0.5074509978294373, 0.5027450919151306, 0.5080392360687256, 0.49450981616973877, 0.5111764669418335, 0.5078431367874146, 0.5023529529571533, 0.5039215683937073, 0.5117647051811218, 0.5005882382392883, 0.5107843279838562, 0.49882352352142334, 0.4986274540424347]}\n"
          ]
        }
      ]
    },
    {
      "cell_type": "code",
      "source": [
        "fig, ax = plt.subplots(figsize=(12, 5))\n",
        "ax.plot(best_model_withSelu_history.history['loss'], label='train loss')\n",
        "ax.plot(best_model_withSelu_history.history['accuracy'], label='train accuracy')\n",
        "ax.plot(best_model_withSelu_history.history['val_loss'], label='validation loss')\n",
        "ax.plot(best_model_withSelu_history.history['val_accuracy'], label='validation accuracy')\n",
        "ax.legend()"
      ],
      "metadata": {
        "colab": {
          "base_uri": "https://localhost:8080/",
          "height": 337
        },
        "id": "pU_KYZRkRn6l",
        "outputId": "eb6c7b32-d50d-4b11-e2f7-183c4bc15669"
      },
      "execution_count": null,
      "outputs": [
        {
          "output_type": "execute_result",
          "data": {
            "text/plain": [
              "<matplotlib.legend.Legend at 0x7febeee04460>"
            ]
          },
          "metadata": {},
          "execution_count": 13
        },
        {
          "output_type": "display_data",
          "data": {
            "text/plain": [
              "<Figure size 864x360 with 1 Axes>"
            ],
            "image/png": "[encoded data removed]"
          },
          "metadata": {
            "needs_background": "light"
          }
        }
      ]
    },
    {
      "cell_type": "code",
      "source": [
        "# evaluate the model\n",
        "best_model_withSelu.evaluate(x_test, y_test, verbose=0, return_dict=True)"
      ],
      "metadata": {
        "colab": {
          "base_uri": "https://localhost:8080/"
        },
        "id": "Ztjfhq6TRnjt",
        "outputId": "71c0629c-2bb2-4242-84ea-05a4e78eee5f"
      },
      "execution_count": null,
      "outputs": [
        {
          "output_type": "execute_result",
          "data": {
            "text/plain": [
              "{'loss': 3.898838996887207, 'accuracy': 0.5064444541931152}"
            ]
          },
          "metadata": {},
          "execution_count": 14
        }
      ]
    },
    {
      "cell_type": "markdown",
      "source": [
        "#investigating the effect of BatchNormalization"
      ],
      "metadata": {
        "id": "5gmhiSCubt5t"
      }
    },
    {
      "cell_type": "code",
      "source": [
        "best_model_withBatchNormalization = keras.models.Sequential([\n",
        "  keras.layers.Flatten(input_shape=[32, 32, 3]),\n",
        "  keras.layers.Dense(160, activation =\"relu\"),\n",
        "  keras.layers.BatchNormalization(),\n",
        "  keras.layers.Dense(352, activation='relu'),\n",
        "  keras.layers.BatchNormalization(),\n",
        "  keras.layers.Dense(512, activation='relu'),\n",
        "  keras.layers.BatchNormalization(),\n",
        "  keras.layers.Dense(384, activation='relu'),\n",
        "  keras.layers.BatchNormalization(),\n",
        "  keras.layers.Dense(10, activation=\"softmax\")\n",
        "])\n",
        "\n",
        "print(best_model_withBatchNormalization.summary())\n",
        "lr = 0.00032699677404287816\n",
        "best_model_withBatchNormalization.compile(\n",
        "        optimizer=keras.optimizers.Adam(learning_rate=lr),\n",
        "        loss=\"sparse_categorical_crossentropy\",\n",
        "        metrics=[\"accuracy\"],\n",
        "    )"
      ],
      "metadata": {
        "colab": {
          "base_uri": "https://localhost:8080/"
        },
        "id": "Yp8gDH82ghh6",
        "outputId": "c7ca8636-779a-4059-e468-9996a6278d4c"
      },
      "execution_count": null,
      "outputs": [
        {
          "output_type": "stream",
          "name": "stdout",
          "text": [
            "Model: \"sequential\"\n",
            "_________________________________________________________________\n",
            " Layer (type)                Output Shape              Param #   \n",
            "=================================================================\n",
            " flatten (Flatten)           (None, 3072)              0         \n",
            "                                                                 \n",
            " dense (Dense)               (None, 160)               491680    \n",
            "                                                                 \n",
            " batch_normalization (BatchN  (None, 160)              640       \n",
            " ormalization)                                                   \n",
            "                                                                 \n",
            " dense_1 (Dense)             (None, 352)               56672     \n",
            "                                                                 \n",
            " batch_normalization_1 (Batc  (None, 352)              1408      \n",
            " hNormalization)                                                 \n",
            "                                                                 \n",
            " dense_2 (Dense)             (None, 512)               180736    \n",
            "                                                                 \n",
            " batch_normalization_2 (Batc  (None, 512)              2048      \n",
            " hNormalization)                                                 \n",
            "                                                                 \n",
            " dense_3 (Dense)             (None, 384)               196992    \n",
            "                                                                 \n",
            " batch_normalization_3 (Batc  (None, 384)              1536      \n",
            " hNormalization)                                                 \n",
            "                                                                 \n",
            " dense_4 (Dense)             (None, 10)                3850      \n",
            "                                                                 \n",
            "=================================================================\n",
            "Total params: 935,562\n",
            "Trainable params: 932,746\n",
            "Non-trainable params: 2,816\n",
            "_________________________________________________________________\n",
            "None\n"
          ]
        }
      ]
    },
    {
      "cell_type": "code",
      "source": [
        "start_time = time.time()\n",
        "best_model_withBatchNormalization_history = best_model_withBatchNormalization.fit(x_train, y_train, batch_size=32 , epochs=50, validation_split=0.1)\n",
        "#print(best_model_withBatchNormalization_history.history)\n",
        "print(\"--- %s seconds ---\" % (time.time() - start_time))"
      ],
      "metadata": {
        "colab": {
          "base_uri": "https://localhost:8080/"
        },
        "id": "Go-FszErhMp6",
        "outputId": "8378465d-ce17-494e-ebf8-57a9c24f323e"
      },
      "execution_count": null,
      "outputs": [
        {
          "output_type": "stream",
          "name": "stdout",
          "text": [
            "Epoch 1/50\n",
            "1435/1435 [==============================] - 19s 7ms/step - loss: 1.7832 - accuracy: 0.3734 - val_loss: 1.8144 - val_accuracy: 0.3553\n",
            "Epoch 2/50\n",
            "1435/1435 [==============================] - 10s 7ms/step - loss: 1.5624 - accuracy: 0.4436 - val_loss: 2.1729 - val_accuracy: 0.3331\n",
            "Epoch 3/50\n",
            "1435/1435 [==============================] - 11s 8ms/step - loss: 1.4883 - accuracy: 0.4725 - val_loss: 1.6197 - val_accuracy: 0.4275\n",
            "Epoch 4/50\n",
            "1435/1435 [==============================] - 11s 8ms/step - loss: 1.4101 - accuracy: 0.4964 - val_loss: 1.4490 - val_accuracy: 0.4822\n",
            "Epoch 5/50\n",
            "1435/1435 [==============================] - 10s 7ms/step - loss: 1.3431 - accuracy: 0.5217 - val_loss: 1.5297 - val_accuracy: 0.4582\n",
            "Epoch 6/50\n",
            "1435/1435 [==============================] - 11s 7ms/step - loss: 1.2946 - accuracy: 0.5382 - val_loss: 1.5145 - val_accuracy: 0.4782\n",
            "Epoch 7/50\n",
            "1435/1435 [==============================] - 10s 7ms/step - loss: 1.2462 - accuracy: 0.5580 - val_loss: 1.4139 - val_accuracy: 0.4992\n",
            "Epoch 8/50\n",
            "1435/1435 [==============================] - 11s 8ms/step - loss: 1.2016 - accuracy: 0.5700 - val_loss: 1.4537 - val_accuracy: 0.5053\n",
            "Epoch 9/50\n",
            "1435/1435 [==============================] - 11s 7ms/step - loss: 1.1609 - accuracy: 0.5849 - val_loss: 1.5273 - val_accuracy: 0.4712\n",
            "Epoch 10/50\n",
            "1435/1435 [==============================] - 11s 7ms/step - loss: 1.1181 - accuracy: 0.6039 - val_loss: 1.4614 - val_accuracy: 0.5024\n",
            "Epoch 11/50\n",
            "1435/1435 [==============================] - 10s 7ms/step - loss: 1.0787 - accuracy: 0.6168 - val_loss: 1.4497 - val_accuracy: 0.5049\n",
            "Epoch 12/50\n",
            "1435/1435 [==============================] - 10s 7ms/step - loss: 1.0462 - accuracy: 0.6266 - val_loss: 1.4406 - val_accuracy: 0.5016\n",
            "Epoch 13/50\n",
            "1435/1435 [==============================] - 10s 7ms/step - loss: 1.0044 - accuracy: 0.6435 - val_loss: 1.4032 - val_accuracy: 0.5216\n",
            "Epoch 14/50\n",
            "1435/1435 [==============================] - 10s 7ms/step - loss: 0.9721 - accuracy: 0.6558 - val_loss: 1.4718 - val_accuracy: 0.5041\n",
            "Epoch 15/50\n",
            "1435/1435 [==============================] - 11s 8ms/step - loss: 0.9392 - accuracy: 0.6643 - val_loss: 1.4675 - val_accuracy: 0.5110\n",
            "Epoch 16/50\n",
            "1435/1435 [==============================] - 11s 7ms/step - loss: 0.9069 - accuracy: 0.6760 - val_loss: 1.5179 - val_accuracy: 0.5116\n",
            "Epoch 17/50\n",
            "1435/1435 [==============================] - 10s 7ms/step - loss: 0.8775 - accuracy: 0.6871 - val_loss: 1.5926 - val_accuracy: 0.4984\n",
            "Epoch 18/50\n",
            "1435/1435 [==============================] - 11s 7ms/step - loss: 0.8429 - accuracy: 0.6984 - val_loss: 1.7118 - val_accuracy: 0.4784\n",
            "Epoch 19/50\n",
            "1435/1435 [==============================] - 10s 7ms/step - loss: 0.8284 - accuracy: 0.7029 - val_loss: 1.5763 - val_accuracy: 0.5069\n",
            "Epoch 20/50\n",
            "1435/1435 [==============================] - 10s 7ms/step - loss: 0.7884 - accuracy: 0.7180 - val_loss: 1.6894 - val_accuracy: 0.4861\n",
            "Epoch 21/50\n",
            "1435/1435 [==============================] - 11s 7ms/step - loss: 0.7695 - accuracy: 0.7246 - val_loss: 1.6141 - val_accuracy: 0.5049\n",
            "Epoch 22/50\n",
            "1435/1435 [==============================] - 11s 8ms/step - loss: 0.7421 - accuracy: 0.7341 - val_loss: 1.6727 - val_accuracy: 0.5065\n",
            "Epoch 23/50\n",
            "1435/1435 [==============================] - 11s 7ms/step - loss: 0.7194 - accuracy: 0.7429 - val_loss: 1.6537 - val_accuracy: 0.5114\n",
            "Epoch 24/50\n",
            "1435/1435 [==============================] - 11s 7ms/step - loss: 0.6966 - accuracy: 0.7507 - val_loss: 1.8592 - val_accuracy: 0.4804\n",
            "Epoch 25/50\n",
            "1435/1435 [==============================] - 11s 8ms/step - loss: 0.6708 - accuracy: 0.7583 - val_loss: 1.7229 - val_accuracy: 0.4953\n",
            "Epoch 26/50\n",
            "1435/1435 [==============================] - 10s 7ms/step - loss: 0.6511 - accuracy: 0.7686 - val_loss: 1.7449 - val_accuracy: 0.5002\n",
            "Epoch 27/50\n",
            "1435/1435 [==============================] - 10s 7ms/step - loss: 0.6412 - accuracy: 0.7718 - val_loss: 1.7024 - val_accuracy: 0.5153\n",
            "Epoch 28/50\n",
            "1435/1435 [==============================] - 11s 7ms/step - loss: 0.6212 - accuracy: 0.7765 - val_loss: 1.8477 - val_accuracy: 0.4822\n",
            "Epoch 29/50\n",
            "1435/1435 [==============================] - 10s 7ms/step - loss: 0.6033 - accuracy: 0.7840 - val_loss: 1.7703 - val_accuracy: 0.5002\n",
            "Epoch 30/50\n",
            "1435/1435 [==============================] - 10s 7ms/step - loss: 0.5794 - accuracy: 0.7927 - val_loss: 1.8476 - val_accuracy: 0.4949\n",
            "Epoch 31/50\n",
            "1435/1435 [==============================] - 10s 7ms/step - loss: 0.5726 - accuracy: 0.7944 - val_loss: 1.8453 - val_accuracy: 0.5118\n",
            "Epoch 32/50\n",
            "1435/1435 [==============================] - 10s 7ms/step - loss: 0.5509 - accuracy: 0.8051 - val_loss: 1.7691 - val_accuracy: 0.5304\n",
            "Epoch 33/50\n",
            "1435/1435 [==============================] - 10s 7ms/step - loss: 0.5412 - accuracy: 0.8078 - val_loss: 1.8535 - val_accuracy: 0.5194\n",
            "Epoch 34/50\n",
            "1435/1435 [==============================] - 11s 8ms/step - loss: 0.5305 - accuracy: 0.8096 - val_loss: 1.8930 - val_accuracy: 0.5153\n",
            "Epoch 35/50\n",
            "1435/1435 [==============================] - 10s 7ms/step - loss: 0.5127 - accuracy: 0.8179 - val_loss: 1.9828 - val_accuracy: 0.5027\n",
            "Epoch 36/50\n",
            "1435/1435 [==============================] - 11s 7ms/step - loss: 0.5046 - accuracy: 0.8198 - val_loss: 1.8547 - val_accuracy: 0.5133\n",
            "Epoch 37/50\n",
            "1435/1435 [==============================] - 10s 7ms/step - loss: 0.4911 - accuracy: 0.8223 - val_loss: 1.8701 - val_accuracy: 0.5084\n",
            "Epoch 38/50\n",
            "1435/1435 [==============================] - 10s 7ms/step - loss: 0.4873 - accuracy: 0.8276 - val_loss: 1.9467 - val_accuracy: 0.5049\n",
            "Epoch 39/50\n",
            "1435/1435 [==============================] - 10s 7ms/step - loss: 0.4704 - accuracy: 0.8328 - val_loss: 2.0858 - val_accuracy: 0.4849\n",
            "Epoch 40/50\n",
            "1435/1435 [==============================] - 10s 7ms/step - loss: 0.4684 - accuracy: 0.8315 - val_loss: 1.9599 - val_accuracy: 0.5061\n",
            "Epoch 41/50\n",
            "1435/1435 [==============================] - 10s 7ms/step - loss: 0.4503 - accuracy: 0.8406 - val_loss: 1.9952 - val_accuracy: 0.4967\n",
            "Epoch 42/50\n",
            "1435/1435 [==============================] - 10s 7ms/step - loss: 0.4454 - accuracy: 0.8411 - val_loss: 2.0302 - val_accuracy: 0.5063\n",
            "Epoch 43/50\n",
            "1435/1435 [==============================] - 10s 7ms/step - loss: 0.4334 - accuracy: 0.8439 - val_loss: 2.2288 - val_accuracy: 0.4935\n",
            "Epoch 44/50\n",
            "1435/1435 [==============================] - 10s 7ms/step - loss: 0.4295 - accuracy: 0.8456 - val_loss: 2.0092 - val_accuracy: 0.5014\n",
            "Epoch 45/50\n",
            "1435/1435 [==============================] - 11s 7ms/step - loss: 0.4131 - accuracy: 0.8546 - val_loss: 2.0791 - val_accuracy: 0.4973\n",
            "Epoch 46/50\n",
            "1435/1435 [==============================] - 11s 8ms/step - loss: 0.4175 - accuracy: 0.8524 - val_loss: 2.0638 - val_accuracy: 0.5157\n",
            "Epoch 47/50\n",
            "1435/1435 [==============================] - 11s 7ms/step - loss: 0.4127 - accuracy: 0.8515 - val_loss: 1.9775 - val_accuracy: 0.5100\n",
            "Epoch 48/50\n",
            "1435/1435 [==============================] - 11s 7ms/step - loss: 0.4040 - accuracy: 0.8546 - val_loss: 2.1603 - val_accuracy: 0.4994\n",
            "Epoch 49/50\n",
            "1435/1435 [==============================] - 11s 7ms/step - loss: 0.3898 - accuracy: 0.8610 - val_loss: 2.0852 - val_accuracy: 0.5135\n",
            "Epoch 50/50\n",
            "1435/1435 [==============================] - 10s 7ms/step - loss: 0.3955 - accuracy: 0.8589 - val_loss: 2.0491 - val_accuracy: 0.5122\n",
            "--- 565.0929899215698 seconds ---\n"
          ]
        }
      ]
    },
    {
      "cell_type": "code",
      "source": [
        "fig, ax = plt.subplots(figsize=(12, 5))\n",
        "ax.plot(best_model_withSelu_history.history['loss'], label='train loss with Selu')\n",
        "ax.plot(best_model_withBatchNormalization_history.history['loss'], label='train loss with BatchNormalization')\n",
        "ax.plot(best_model_withSelu_history.history['accuracy'], label='train accuracy with Selu', marker='d')\n",
        "ax.plot(best_model_withBatchNormalization_history.history['accuracy'], label='train accuracy with BatchNormalization', marker='d')\n",
        "ax.plot(best_model_withSelu_history.history['val_loss'], label='validation loss with Selu', marker='v')\n",
        "ax.plot(best_model_withBatchNormalization_history.history['val_loss'], label='validation loss with BatchNormalization', marker='v')\n",
        "ax.plot(best_model_withSelu_history.history['val_accuracy'], label='validation accuracy with Selu', marker='.')\n",
        "ax.plot(best_model_withBatchNormalization_history.history['val_accuracy'], label='validation accuracy with BatchNormalization', marker='.')\n",
        "ax.legend()"
      ],
      "metadata": {
        "colab": {
          "base_uri": "https://localhost:8080/",
          "height": 337
        },
        "id": "6vKzhCeuhWui",
        "outputId": "12d27f71-9f8d-4179-e5bf-7a328f339706"
      },
      "execution_count": null,
      "outputs": [
        {
          "output_type": "execute_result",
          "data": {
            "text/plain": [
              "<matplotlib.legend.Legend at 0x7febeecd2e20>"
            ]
          },
          "metadata": {},
          "execution_count": 17
        },
        {
          "output_type": "display_data",
          "data": {
            "text/plain": [
              "<Figure size 864x360 with 1 Axes>"
            ],
            "image/png": "[encoded data removed]"
          },
          "metadata": {
            "needs_background": "light"
          }
        }
      ]
    },
    {
      "cell_type": "code",
      "source": [
        "# evaluate the model\n",
        "best_model_withBatchNormalization.evaluate(x_test, y_test, verbose=0, return_dict=True)"
      ],
      "metadata": {
        "colab": {
          "base_uri": "https://localhost:8080/"
        },
        "id": "0GMEPHKzhaCK",
        "outputId": "6907a3f2-5921-45bf-e47e-8d6de27df65f"
      },
      "execution_count": null,
      "outputs": [
        {
          "output_type": "execute_result",
          "data": {
            "text/plain": [
              "{'loss': 2.0464863777160645, 'accuracy': 0.5130000114440918}"
            ]
          },
          "metadata": {},
          "execution_count": 7
        }
      ]
    },
    {
      "cell_type": "markdown",
      "source": [
        "# Save and Load model"
      ],
      "metadata": {
        "id": "g98kLi13oRs-"
      }
    },
    {
      "cell_type": "code",
      "source": [
        "best_model_withBatchNormalization.save(\"best_model_withBatchNormalization0.h5\")\n",
        "best_model_withBatchNormalization1=keras.models.load_model(\"best_model_withBatchNormalization0.h5\")"
      ],
      "metadata": {
        "id": "jPOFESEl72kv"
      },
      "execution_count": null,
      "outputs": []
    },
    {
      "cell_type": "markdown",
      "source": [
        "#Clone Model"
      ],
      "metadata": {
        "id": "pZpCUy-toYe-"
      }
    },
    {
      "cell_type": "code",
      "source": [
        "HorseDetectionModel_cloned=keras.models.clone_model(best_model_withBatchNormalization1)\n",
        "HorseDetectionModel_cloned.set_weights(best_model_withBatchNormalization1.get_weights())"
      ],
      "metadata": {
        "id": "_A9sAid078JN"
      },
      "execution_count": null,
      "outputs": []
    },
    {
      "cell_type": "markdown",
      "source": [
        "#Remove the last layer and Add new layer to model for horse Prediction"
      ],
      "metadata": {
        "id": "fsvYnmaTocKF"
      }
    },
    {
      "cell_type": "code",
      "source": [
        "HorseDetectionModel1=keras.models.Sequential(HorseDetectionModel_cloned.layers[:-1])\n",
        "HorseDetectionModel1.add(keras.layers.Dense(1, activation='sigmoid'))"
      ],
      "metadata": {
        "id": "2ZURDG4LubXN"
      },
      "execution_count": null,
      "outputs": []
    },
    {
      "cell_type": "markdown",
      "source": [
        "#Preparation Data for train model and Horse prediction "
      ],
      "metadata": {
        "id": "XtAFZ8gYorkN"
      }
    },
    {
      "cell_type": "code",
      "source": [
        "x_Horse= x[:6000,:,:]\n",
        "y_Horse=np.where(y == 7 , 1, 0)[:6000]\n",
        "\n",
        "print(\"Number of Horse label = \" ,np.sum(y_Horse))\n",
        "\n",
        "print('x_Horse.shape = ',x_Horse.shape)\n",
        "print('y_Horse.shape = ',y_Horse.shape)\n",
        "\n",
        "x_train_Horse, x_test_Horse, y_train_Horse, y_test_Horse = train_test_split(x_Horse,y_Horse,test_size=0.15 )\n",
        "\n",
        "print(\"x_train_Horse.shape = \",x_train_Horse.shape)\n",
        "print(\"y_train_Horse.shape = \",y_train_Horse.shape)\n",
        "print(\"x_test_Horse.shape = \",x_test_Horse.shape)\n",
        "print(\"y_test_Horse.shape = \",y_test_Horse.shape)"
      ],
      "metadata": {
        "colab": {
          "base_uri": "https://localhost:8080/"
        },
        "id": "kKTIpL0Z8t0u",
        "outputId": "0f14aad5-646c-4c8f-e3e8-0f0fdbbad393"
      },
      "execution_count": null,
      "outputs": [
        {
          "output_type": "stream",
          "name": "stdout",
          "text": [
            "Number of Horse label =  597\n",
            "x_Horse.shape =  (6000, 32, 32, 3)\n",
            "y_Horse.shape =  (6000, 1)\n",
            "x_train_Horse.shape =  (5100, 32, 32, 3)\n",
            "y_train_Horse.shape =  (5100, 1)\n",
            "x_test_Horse.shape =  (900, 32, 32, 3)\n",
            "y_test_Horse.shape =  (900, 1)\n"
          ]
        }
      ]
    },
    {
      "cell_type": "markdown",
      "source": [
        "#Freeze Layers"
      ],
      "metadata": {
        "id": "nnX0s43sp3Jt"
      }
    },
    {
      "cell_type": "code",
      "source": [
        "for layer in HorseDetectionModel1.layers[:-1]:\n",
        "  layer.trainable=False\n",
        "  print(layer.trainable)"
      ],
      "metadata": {
        "colab": {
          "base_uri": "https://localhost:8080/"
        },
        "id": "I_318cJD8J3d",
        "outputId": "4a591686-2d0c-4043-8abd-edbe8a48643b"
      },
      "execution_count": null,
      "outputs": [
        {
          "output_type": "stream",
          "name": "stdout",
          "text": [
            "False\n",
            "False\n",
            "False\n",
            "False\n",
            "False\n",
            "False\n",
            "False\n",
            "False\n",
            "False\n"
          ]
        }
      ]
    },
    {
      "cell_type": "code",
      "source": [
        "\n",
        "HorseDetectionModel1.summary()"
      ],
      "metadata": {
        "colab": {
          "base_uri": "https://localhost:8080/"
        },
        "id": "-DDpaQRl8rtG",
        "outputId": "3ed22f51-2eec-4731-c662-540b2ca2176b"
      },
      "execution_count": null,
      "outputs": [
        {
          "output_type": "stream",
          "name": "stdout",
          "text": [
            "Model: \"sequential_4\"\n",
            "_________________________________________________________________\n",
            " Layer (type)                Output Shape              Param #   \n",
            "=================================================================\n",
            " flatten_3 (Flatten)         (None, 3072)              0         \n",
            "                                                                 \n",
            " dense_15 (Dense)            (None, 160)               491680    \n",
            "                                                                 \n",
            " batch_normalization (BatchN  (None, 160)              640       \n",
            " ormalization)                                                   \n",
            "                                                                 \n",
            " dense_16 (Dense)            (None, 352)               56672     \n",
            "                                                                 \n",
            " batch_normalization_1 (Batc  (None, 352)              1408      \n",
            " hNormalization)                                                 \n",
            "                                                                 \n",
            " dense_17 (Dense)            (None, 512)               180736    \n",
            "                                                                 \n",
            " batch_normalization_2 (Batc  (None, 512)              2048      \n",
            " hNormalization)                                                 \n",
            "                                                                 \n",
            " dense_18 (Dense)            (None, 384)               196992    \n",
            "                                                                 \n",
            " batch_normalization_3 (Batc  (None, 384)              1536      \n",
            " hNormalization)                                                 \n",
            "                                                                 \n",
            " dense_20 (Dense)            (None, 1)                 385       \n",
            "                                                                 \n",
            "=================================================================\n",
            "Total params: 932,097\n",
            "Trainable params: 385\n",
            "Non-trainable params: 931,712\n",
            "_________________________________________________________________\n"
          ]
        }
      ]
    },
    {
      "cell_type": "markdown",
      "source": [
        "#Compile,Fit and evaluate model with freeze layers"
      ],
      "metadata": {
        "id": "X-Xbxj43p7nf"
      }
    },
    {
      "cell_type": "code",
      "source": [
        "lr = 0.00032699677404287816\n",
        "HorseDetectionModel1.compile(\n",
        "        optimizer=keras.optimizers.Adam(learning_rate=lr),\n",
        "        loss=\"binary_crossentropy\",\n",
        "        metrics=[\"accuracy\"],\n",
        "    )\n",
        "\n",
        "start_time = time.time()\n",
        "\n",
        "HorseDetectionModel1_history = HorseDetectionModel1.fit(x_train_Horse, y_train_Horse, batch_size=32 , epochs=50, validation_split=0.1)\n",
        "print(HorseDetectionModel1_history.history)\n",
        "\n",
        "print(\"--- %s seconds ---\" % (time.time() - start_time))\n",
        "# evaluate the model\n",
        "print(HorseDetectionModel1.evaluate(x_test_Horse, y_test_Horse, verbose=0, return_dict=True))"
      ],
      "metadata": {
        "colab": {
          "base_uri": "https://localhost:8080/"
        },
        "id": "Xqr-iXNdCCEM",
        "outputId": "c5424857-10ba-430a-c755-32ecd8705da3"
      },
      "execution_count": null,
      "outputs": [
        {
          "output_type": "stream",
          "name": "stdout",
          "text": [
            "Epoch 1/50\n",
            "144/144 [==============================] - 2s 6ms/step - loss: 46.6815 - accuracy: 0.8370 - val_loss: 33.1564 - val_accuracy: 0.8510\n",
            "Epoch 2/50\n",
            "144/144 [==============================] - 1s 5ms/step - loss: 32.9102 - accuracy: 0.8481 - val_loss: 24.9699 - val_accuracy: 0.8824\n",
            "Epoch 3/50\n",
            "144/144 [==============================] - 1s 5ms/step - loss: 25.9216 - accuracy: 0.8627 - val_loss: 21.0256 - val_accuracy: 0.8922\n",
            "Epoch 4/50\n",
            "144/144 [==============================] - 1s 4ms/step - loss: 22.3289 - accuracy: 0.8686 - val_loss: 18.9781 - val_accuracy: 0.8941\n",
            "Epoch 5/50\n",
            "144/144 [==============================] - 1s 5ms/step - loss: 19.6929 - accuracy: 0.8747 - val_loss: 17.2948 - val_accuracy: 0.9118\n",
            "Epoch 6/50\n",
            "144/144 [==============================] - 1s 5ms/step - loss: 18.0498 - accuracy: 0.8839 - val_loss: 19.4398 - val_accuracy: 0.8471\n",
            "Epoch 7/50\n",
            "144/144 [==============================] - 1s 7ms/step - loss: 16.9344 - accuracy: 0.8817 - val_loss: 16.2899 - val_accuracy: 0.8882\n",
            "Epoch 8/50\n",
            "144/144 [==============================] - 1s 7ms/step - loss: 15.2673 - accuracy: 0.8858 - val_loss: 14.5261 - val_accuracy: 0.9137\n",
            "Epoch 9/50\n",
            "144/144 [==============================] - 1s 5ms/step - loss: 14.0378 - accuracy: 0.8845 - val_loss: 14.2591 - val_accuracy: 0.8941\n",
            "Epoch 10/50\n",
            "144/144 [==============================] - 1s 5ms/step - loss: 13.5014 - accuracy: 0.8856 - val_loss: 13.5009 - val_accuracy: 0.9196\n",
            "Epoch 11/50\n",
            "144/144 [==============================] - 1s 5ms/step - loss: 12.2815 - accuracy: 0.8948 - val_loss: 13.7861 - val_accuracy: 0.8843\n",
            "Epoch 12/50\n",
            "144/144 [==============================] - 1s 4ms/step - loss: 11.9760 - accuracy: 0.8919 - val_loss: 12.7815 - val_accuracy: 0.8882\n",
            "Epoch 13/50\n",
            "144/144 [==============================] - 1s 5ms/step - loss: 11.4562 - accuracy: 0.8941 - val_loss: 11.5867 - val_accuracy: 0.9059\n",
            "Epoch 14/50\n",
            "144/144 [==============================] - 1s 5ms/step - loss: 10.8122 - accuracy: 0.8969 - val_loss: 11.6874 - val_accuracy: 0.8922\n",
            "Epoch 15/50\n",
            "144/144 [==============================] - 1s 5ms/step - loss: 10.2086 - accuracy: 0.8935 - val_loss: 11.1611 - val_accuracy: 0.8961\n",
            "Epoch 16/50\n",
            "144/144 [==============================] - 1s 4ms/step - loss: 9.9091 - accuracy: 0.8989 - val_loss: 10.5344 - val_accuracy: 0.9020\n",
            "Epoch 17/50\n",
            "144/144 [==============================] - 1s 5ms/step - loss: 9.4596 - accuracy: 0.8980 - val_loss: 11.0047 - val_accuracy: 0.8922\n",
            "Epoch 18/50\n",
            "144/144 [==============================] - 1s 4ms/step - loss: 9.6699 - accuracy: 0.8930 - val_loss: 10.0413 - val_accuracy: 0.9078\n",
            "Epoch 19/50\n",
            "144/144 [==============================] - 1s 4ms/step - loss: 9.2943 - accuracy: 0.8963 - val_loss: 9.5222 - val_accuracy: 0.9098\n",
            "Epoch 20/50\n",
            "144/144 [==============================] - 1s 4ms/step - loss: 8.7328 - accuracy: 0.8998 - val_loss: 9.4235 - val_accuracy: 0.9176\n",
            "Epoch 21/50\n",
            "144/144 [==============================] - 1s 4ms/step - loss: 8.5165 - accuracy: 0.8985 - val_loss: 9.4793 - val_accuracy: 0.9157\n",
            "Epoch 22/50\n",
            "144/144 [==============================] - 1s 4ms/step - loss: 7.8406 - accuracy: 0.9024 - val_loss: 9.2615 - val_accuracy: 0.9118\n",
            "Epoch 23/50\n",
            "144/144 [==============================] - 1s 4ms/step - loss: 7.6751 - accuracy: 0.9004 - val_loss: 8.5100 - val_accuracy: 0.9216\n",
            "Epoch 24/50\n",
            "144/144 [==============================] - 1s 6ms/step - loss: 7.7326 - accuracy: 0.8996 - val_loss: 8.3979 - val_accuracy: 0.9176\n",
            "Epoch 25/50\n",
            "144/144 [==============================] - 1s 7ms/step - loss: 7.4067 - accuracy: 0.9031 - val_loss: 8.9851 - val_accuracy: 0.8961\n",
            "Epoch 26/50\n",
            "144/144 [==============================] - 1s 7ms/step - loss: 7.0990 - accuracy: 0.9037 - val_loss: 8.2704 - val_accuracy: 0.9118\n",
            "Epoch 27/50\n",
            "144/144 [==============================] - 1s 5ms/step - loss: 7.1207 - accuracy: 0.8996 - val_loss: 8.2814 - val_accuracy: 0.9196\n",
            "Epoch 28/50\n",
            "144/144 [==============================] - 1s 4ms/step - loss: 7.0441 - accuracy: 0.9017 - val_loss: 9.2398 - val_accuracy: 0.8863\n",
            "Epoch 29/50\n",
            "144/144 [==============================] - 1s 4ms/step - loss: 6.5417 - accuracy: 0.9098 - val_loss: 13.9212 - val_accuracy: 0.8059\n",
            "Epoch 30/50\n",
            "144/144 [==============================] - 1s 4ms/step - loss: 6.8383 - accuracy: 0.9046 - val_loss: 8.7218 - val_accuracy: 0.8941\n",
            "Epoch 31/50\n",
            "144/144 [==============================] - 1s 4ms/step - loss: 6.1573 - accuracy: 0.9035 - val_loss: 8.3778 - val_accuracy: 0.9216\n",
            "Epoch 32/50\n",
            "144/144 [==============================] - 1s 4ms/step - loss: 6.3362 - accuracy: 0.9052 - val_loss: 8.0861 - val_accuracy: 0.8980\n",
            "Epoch 33/50\n",
            "144/144 [==============================] - 1s 5ms/step - loss: 6.5441 - accuracy: 0.9022 - val_loss: 9.5530 - val_accuracy: 0.9255\n",
            "Epoch 34/50\n",
            "144/144 [==============================] - 1s 4ms/step - loss: 6.4678 - accuracy: 0.9022 - val_loss: 7.1078 - val_accuracy: 0.9235\n",
            "Epoch 35/50\n",
            "144/144 [==============================] - 1s 4ms/step - loss: 5.8695 - accuracy: 0.9044 - val_loss: 7.6329 - val_accuracy: 0.9020\n",
            "Epoch 36/50\n",
            "144/144 [==============================] - 1s 4ms/step - loss: 5.7523 - accuracy: 0.9070 - val_loss: 10.0015 - val_accuracy: 0.8549\n",
            "Epoch 37/50\n",
            "144/144 [==============================] - 1s 5ms/step - loss: 5.5611 - accuracy: 0.9076 - val_loss: 6.8260 - val_accuracy: 0.9235\n",
            "Epoch 38/50\n",
            "144/144 [==============================] - 1s 4ms/step - loss: 5.6311 - accuracy: 0.9046 - val_loss: 6.9169 - val_accuracy: 0.9196\n",
            "Epoch 39/50\n",
            "144/144 [==============================] - 1s 5ms/step - loss: 5.2219 - accuracy: 0.9096 - val_loss: 6.8680 - val_accuracy: 0.9196\n",
            "Epoch 40/50\n",
            "144/144 [==============================] - 1s 5ms/step - loss: 5.6557 - accuracy: 0.9044 - val_loss: 12.0220 - val_accuracy: 0.8157\n",
            "Epoch 41/50\n",
            "144/144 [==============================] - 1s 4ms/step - loss: 5.8796 - accuracy: 0.9013 - val_loss: 6.9494 - val_accuracy: 0.9275\n",
            "Epoch 42/50\n",
            "144/144 [==============================] - 1s 6ms/step - loss: 5.1427 - accuracy: 0.9092 - val_loss: 6.4331 - val_accuracy: 0.9176\n",
            "Epoch 43/50\n",
            "144/144 [==============================] - 1s 7ms/step - loss: 5.4136 - accuracy: 0.9061 - val_loss: 7.0015 - val_accuracy: 0.9020\n",
            "Epoch 44/50\n",
            "144/144 [==============================] - 1s 7ms/step - loss: 5.0911 - accuracy: 0.9074 - val_loss: 6.8166 - val_accuracy: 0.9098\n",
            "Epoch 45/50\n",
            "144/144 [==============================] - 1s 5ms/step - loss: 5.4156 - accuracy: 0.9068 - val_loss: 6.5833 - val_accuracy: 0.9333\n",
            "Epoch 46/50\n",
            "144/144 [==============================] - 1s 4ms/step - loss: 4.9383 - accuracy: 0.9085 - val_loss: 6.3698 - val_accuracy: 0.9176\n",
            "Epoch 47/50\n",
            "144/144 [==============================] - 1s 5ms/step - loss: 4.7430 - accuracy: 0.9085 - val_loss: 6.2315 - val_accuracy: 0.9157\n",
            "Epoch 48/50\n",
            "144/144 [==============================] - 1s 4ms/step - loss: 4.7904 - accuracy: 0.9092 - val_loss: 7.9602 - val_accuracy: 0.8667\n",
            "Epoch 49/50\n",
            "144/144 [==============================] - 1s 4ms/step - loss: 4.9732 - accuracy: 0.9046 - val_loss: 6.1736 - val_accuracy: 0.9314\n",
            "Epoch 50/50\n",
            "144/144 [==============================] - 1s 5ms/step - loss: 4.6702 - accuracy: 0.9083 - val_loss: 6.0231 - val_accuracy: 0.9353\n",
            "{'loss': [46.68149948120117, 32.910160064697266, 25.92158317565918, 22.32894515991211, 19.69293212890625, 18.0498104095459, 16.93442726135254, 15.267327308654785, 14.037801742553711, 13.501354217529297, 12.281458854675293, 11.97604751586914, 11.456212043762207, 10.812169075012207, 10.20862865447998, 9.90910816192627, 9.459648132324219, 9.669879913330078, 9.294276237487793, 8.732781410217285, 8.516473770141602, 7.840594291687012, 7.675107955932617, 7.732609748840332, 7.406730651855469, 7.098978519439697, 7.1207356452941895, 7.044088840484619, 6.541682720184326, 6.838263988494873, 6.157296180725098, 6.336157321929932, 6.544107437133789, 6.467843532562256, 5.869493007659912, 5.75231409072876, 5.561092853546143, 5.631103515625, 5.221859455108643, 5.655694961547852, 5.879589557647705, 5.142698764801025, 5.413571834564209, 5.091055393218994, 5.4156036376953125, 4.938321590423584, 4.743045806884766, 4.790378570556641, 4.973178863525391, 4.67020845413208], 'accuracy': [0.8370370268821716, 0.8481481671333313, 0.8627451062202454, 0.8686274290084839, 0.8747276663780212, 0.8838779926300049, 0.8816993236541748, 0.8858388066291809, 0.8845316171646118, 0.8856208920478821, 0.8947712182998657, 0.8919389843940735, 0.8941176533699036, 0.8969498872756958, 0.8934640288352966, 0.8989107012748718, 0.8980392217636108, 0.8930283188819885, 0.8962963223457336, 0.899782121181488, 0.898474931716919, 0.9023965001106262, 0.900435745716095, 0.899564266204834, 0.9030501246452332, 0.9037036895751953, 0.899564266204834, 0.9017429351806641, 0.9098039269447327, 0.9045751690864563, 0.9034858345985413, 0.9052287340164185, 0.9021786451339722, 0.9021786451339722, 0.9043573141098022, 0.9069716930389404, 0.9076252579689026, 0.9045751690864563, 0.9095860719680786, 0.9043573141098022, 0.9013071656227112, 0.9091503024101257, 0.9061002135276794, 0.9074074029922485, 0.9067538380622864, 0.9084967374801636, 0.9084967374801636, 0.9091503024101257, 0.9045751690864563, 0.9082788825035095], 'val_loss': [33.15644836425781, 24.969942092895508, 21.02556800842285, 18.978084564208984, 17.294795989990234, 19.439777374267578, 16.289945602416992, 14.526103973388672, 14.259065628051758, 13.500908851623535, 13.78608512878418, 12.781519889831543, 11.586654663085938, 11.687402725219727, 11.161088943481445, 10.534364700317383, 11.00471305847168, 10.041266441345215, 9.522160530090332, 9.423483848571777, 9.479300498962402, 9.261484146118164, 8.509950637817383, 8.397909164428711, 8.985142707824707, 8.27041244506836, 8.281366348266602, 9.2398099899292, 13.921158790588379, 8.721756935119629, 8.37783145904541, 8.086085319519043, 9.552989959716797, 7.107847213745117, 7.632857799530029, 10.001456260681152, 6.826004505157471, 6.916947364807129, 6.868028163909912, 12.022049903869629, 6.9493584632873535, 6.43305778503418, 7.001465797424316, 6.816614627838135, 6.583279132843018, 6.369837284088135, 6.2314558029174805, 7.96024751663208, 6.173648834228516, 6.023121356964111], 'val_accuracy': [0.8509804010391235, 0.8823529481887817, 0.8921568393707275, 0.8941176533699036, 0.9117646813392639, 0.8470588326454163, 0.8882352709770203, 0.9137254953384399, 0.8941176533699036, 0.9196078181266785, 0.884313702583313, 0.8882352709770203, 0.9058823585510254, 0.8921568393707275, 0.8960784077644348, 0.9019607901573181, 0.8921568393707275, 0.9078431129455566, 0.9098039269447327, 0.9176470637321472, 0.9156862497329712, 0.9117646813392639, 0.9215686321258545, 0.9176470637321472, 0.8960784077644348, 0.9117646813392639, 0.9196078181266785, 0.886274516582489, 0.8058823347091675, 0.8941176533699036, 0.9215686321258545, 0.8980392217636108, 0.9254902005195618, 0.9235293865203857, 0.9019607901573181, 0.8549019694328308, 0.9235293865203857, 0.9196078181266785, 0.9196078181266785, 0.8156862854957581, 0.927450954914093, 0.9176470637321472, 0.9019607901573181, 0.9098039269447327, 0.9333333373069763, 0.9176470637321472, 0.9156862497329712, 0.8666666746139526, 0.9313725233078003, 0.9352940917015076]}\n",
            "--- 37.111968994140625 seconds ---\n",
            "{'loss': 7.468667507171631, 'accuracy': 0.9044444561004639}\n"
          ]
        }
      ]
    },
    {
      "cell_type": "markdown",
      "source": [
        "#Unfreeze Layers"
      ],
      "metadata": {
        "id": "SY2A6kyjqHB1"
      }
    },
    {
      "cell_type": "code",
      "source": [
        "for layer in HorseDetectionModel1.layers[:-1]:\n",
        "  layer.trainable=True\n",
        "  print(layer.trainable)"
      ],
      "metadata": {
        "colab": {
          "base_uri": "https://localhost:8080/"
        },
        "id": "PuKJqiviFToE",
        "outputId": "d15f0688-1f04-4dc0-80f5-3381d6da2b3d"
      },
      "execution_count": null,
      "outputs": [
        {
          "output_type": "stream",
          "name": "stdout",
          "text": [
            "True\n",
            "True\n",
            "True\n",
            "True\n",
            "True\n",
            "True\n",
            "True\n",
            "True\n",
            "True\n"
          ]
        }
      ]
    },
    {
      "cell_type": "markdown",
      "source": [
        "#Compile,Fit and evaluate model with **unfreeze** layers"
      ],
      "metadata": {
        "id": "si9M3_I8qZws"
      }
    },
    {
      "cell_type": "code",
      "source": [
        "lr = 0.00032699677404287816\n",
        "HorseDetectionModel1.compile(\n",
        "        optimizer=keras.optimizers.Adam(learning_rate=lr),\n",
        "        loss=\"binary_crossentropy\",\n",
        "        metrics=[\"accuracy\"],\n",
        "    )\n",
        "\n",
        "start_time = time.time()\n",
        "\n",
        "HorseDetectionModel1_history = HorseDetectionModel1.fit(x_train_Horse, y_train_Horse, batch_size=32 , epochs=50, validation_split=0.1)\n",
        "print(HorseDetectionModel1_history.history)\n",
        "\n",
        "print(\"--- %s seconds ---\" % (time.time() - start_time))\n",
        "# evaluate the model\n",
        "print(HorseDetectionModel1.evaluate(x_test_Horse, y_test_Horse, verbose=0, return_dict=True))"
      ],
      "metadata": {
        "colab": {
          "base_uri": "https://localhost:8080/"
        },
        "id": "kWqK4eAxFYsk",
        "outputId": "d845a318-72b9-4226-b84f-9ede769cbd36"
      },
      "execution_count": null,
      "outputs": [
        {
          "output_type": "stream",
          "name": "stdout",
          "text": [
            "Epoch 1/50\n",
            "144/144 [==============================] - 6s 17ms/step - loss: 0.4780 - accuracy: 0.7810 - val_loss: 0.2658 - val_accuracy: 0.9078\n",
            "Epoch 2/50\n",
            "144/144 [==============================] - 2s 15ms/step - loss: 0.2283 - accuracy: 0.9394 - val_loss: 0.1882 - val_accuracy: 0.9451\n",
            "Epoch 3/50\n",
            "144/144 [==============================] - 3s 18ms/step - loss: 0.1338 - accuracy: 0.9662 - val_loss: 0.1836 - val_accuracy: 0.9353\n",
            "Epoch 4/50\n",
            "144/144 [==============================] - 3s 19ms/step - loss: 0.0950 - accuracy: 0.9773 - val_loss: 0.1367 - val_accuracy: 0.9529\n",
            "Epoch 5/50\n",
            "144/144 [==============================] - 2s 15ms/step - loss: 0.0660 - accuracy: 0.9856 - val_loss: 0.1220 - val_accuracy: 0.9608\n",
            "Epoch 6/50\n",
            "144/144 [==============================] - 2s 15ms/step - loss: 0.0512 - accuracy: 0.9880 - val_loss: 0.1462 - val_accuracy: 0.9451\n",
            "Epoch 7/50\n",
            "144/144 [==============================] - 2s 17ms/step - loss: 0.0375 - accuracy: 0.9932 - val_loss: 0.1473 - val_accuracy: 0.9549\n",
            "Epoch 8/50\n",
            "144/144 [==============================] - 2s 16ms/step - loss: 0.0292 - accuracy: 0.9948 - val_loss: 0.1490 - val_accuracy: 0.9510\n",
            "Epoch 9/50\n",
            "144/144 [==============================] - 3s 21ms/step - loss: 0.0251 - accuracy: 0.9941 - val_loss: 0.1617 - val_accuracy: 0.9373\n",
            "Epoch 10/50\n",
            "144/144 [==============================] - 2s 15ms/step - loss: 0.0244 - accuracy: 0.9950 - val_loss: 0.1322 - val_accuracy: 0.9490\n",
            "Epoch 11/50\n",
            "144/144 [==============================] - 2s 15ms/step - loss: 0.0185 - accuracy: 0.9963 - val_loss: 0.1526 - val_accuracy: 0.9451\n",
            "Epoch 12/50\n",
            "144/144 [==============================] - 2s 15ms/step - loss: 0.0178 - accuracy: 0.9950 - val_loss: 0.1791 - val_accuracy: 0.9333\n",
            "Epoch 13/50\n",
            "144/144 [==============================] - 2s 15ms/step - loss: 0.0248 - accuracy: 0.9926 - val_loss: 0.1880 - val_accuracy: 0.9412\n",
            "Epoch 14/50\n",
            "144/144 [==============================] - 3s 21ms/step - loss: 0.0176 - accuracy: 0.9952 - val_loss: 0.1880 - val_accuracy: 0.9314\n",
            "Epoch 15/50\n",
            "144/144 [==============================] - 2s 16ms/step - loss: 0.0157 - accuracy: 0.9961 - val_loss: 0.1920 - val_accuracy: 0.9412\n",
            "Epoch 16/50\n",
            "144/144 [==============================] - 2s 15ms/step - loss: 0.0140 - accuracy: 0.9967 - val_loss: 0.2571 - val_accuracy: 0.9098\n",
            "Epoch 17/50\n",
            "144/144 [==============================] - 2s 15ms/step - loss: 0.0126 - accuracy: 0.9965 - val_loss: 0.1792 - val_accuracy: 0.9294\n",
            "Epoch 18/50\n",
            "144/144 [==============================] - 2s 15ms/step - loss: 0.0108 - accuracy: 0.9976 - val_loss: 0.1831 - val_accuracy: 0.9451\n",
            "Epoch 19/50\n",
            "144/144 [==============================] - 3s 18ms/step - loss: 0.0088 - accuracy: 0.9978 - val_loss: 0.2131 - val_accuracy: 0.9392\n",
            "Epoch 20/50\n",
            "144/144 [==============================] - 3s 19ms/step - loss: 0.0139 - accuracy: 0.9963 - val_loss: 0.2297 - val_accuracy: 0.9490\n",
            "Epoch 21/50\n",
            "144/144 [==============================] - 2s 15ms/step - loss: 0.0127 - accuracy: 0.9963 - val_loss: 0.1928 - val_accuracy: 0.9412\n",
            "Epoch 22/50\n",
            "144/144 [==============================] - 2s 15ms/step - loss: 0.0138 - accuracy: 0.9965 - val_loss: 0.2504 - val_accuracy: 0.9314\n",
            "Epoch 23/50\n",
            "144/144 [==============================] - 2s 15ms/step - loss: 0.0218 - accuracy: 0.9917 - val_loss: 0.4184 - val_accuracy: 0.8765\n",
            "Epoch 24/50\n",
            "144/144 [==============================] - 2s 15ms/step - loss: 0.0239 - accuracy: 0.9917 - val_loss: 0.2150 - val_accuracy: 0.9333\n",
            "Epoch 25/50\n",
            "144/144 [==============================] - 3s 22ms/step - loss: 0.0123 - accuracy: 0.9972 - val_loss: 0.2600 - val_accuracy: 0.9314\n",
            "Epoch 26/50\n",
            "144/144 [==============================] - 2s 15ms/step - loss: 0.0108 - accuracy: 0.9978 - val_loss: 0.1879 - val_accuracy: 0.9471\n",
            "Epoch 27/50\n",
            "144/144 [==============================] - 2s 15ms/step - loss: 0.0094 - accuracy: 0.9961 - val_loss: 0.2405 - val_accuracy: 0.9373\n",
            "Epoch 28/50\n",
            "144/144 [==============================] - 2s 15ms/step - loss: 0.0096 - accuracy: 0.9969 - val_loss: 0.2101 - val_accuracy: 0.9392\n",
            "Epoch 29/50\n",
            "144/144 [==============================] - 2s 15ms/step - loss: 0.0153 - accuracy: 0.9952 - val_loss: 0.2513 - val_accuracy: 0.9294\n",
            "Epoch 30/50\n",
            "144/144 [==============================] - 3s 20ms/step - loss: 0.0114 - accuracy: 0.9963 - val_loss: 0.3424 - val_accuracy: 0.8843\n",
            "Epoch 31/50\n",
            "144/144 [==============================] - 3s 17ms/step - loss: 0.0193 - accuracy: 0.9930 - val_loss: 0.2369 - val_accuracy: 0.9392\n",
            "Epoch 32/50\n",
            "144/144 [==============================] - 2s 16ms/step - loss: 0.0147 - accuracy: 0.9952 - val_loss: 0.2487 - val_accuracy: 0.9235\n",
            "Epoch 33/50\n",
            "144/144 [==============================] - 2s 15ms/step - loss: 0.0076 - accuracy: 0.9985 - val_loss: 0.2159 - val_accuracy: 0.9412\n",
            "Epoch 34/50\n",
            "144/144 [==============================] - 2s 15ms/step - loss: 0.0056 - accuracy: 0.9987 - val_loss: 0.2577 - val_accuracy: 0.9333\n",
            "Epoch 35/50\n",
            "144/144 [==============================] - 2s 16ms/step - loss: 0.0052 - accuracy: 0.9987 - val_loss: 0.3303 - val_accuracy: 0.9373\n",
            "Epoch 36/50\n",
            "144/144 [==============================] - 3s 21ms/step - loss: 0.0071 - accuracy: 0.9976 - val_loss: 0.2854 - val_accuracy: 0.9275\n",
            "Epoch 37/50\n",
            "144/144 [==============================] - 2s 15ms/step - loss: 0.0108 - accuracy: 0.9961 - val_loss: 0.2967 - val_accuracy: 0.9392\n",
            "Epoch 38/50\n",
            "144/144 [==============================] - 2s 15ms/step - loss: 0.0073 - accuracy: 0.9978 - val_loss: 0.2637 - val_accuracy: 0.9235\n",
            "Epoch 39/50\n",
            "144/144 [==============================] - 2s 15ms/step - loss: 0.0059 - accuracy: 0.9985 - val_loss: 0.2452 - val_accuracy: 0.9373\n",
            "Epoch 40/50\n",
            "144/144 [==============================] - 2s 15ms/step - loss: 0.0068 - accuracy: 0.9974 - val_loss: 0.2667 - val_accuracy: 0.9333\n",
            "Epoch 41/50\n",
            "144/144 [==============================] - 3s 21ms/step - loss: 0.0101 - accuracy: 0.9969 - val_loss: 0.3003 - val_accuracy: 0.9412\n",
            "Epoch 42/50\n",
            "144/144 [==============================] - 2s 16ms/step - loss: 0.0202 - accuracy: 0.9906 - val_loss: 0.3136 - val_accuracy: 0.9196\n",
            "Epoch 43/50\n",
            "144/144 [==============================] - 2s 15ms/step - loss: 0.0108 - accuracy: 0.9963 - val_loss: 0.2511 - val_accuracy: 0.9373\n",
            "Epoch 44/50\n",
            "144/144 [==============================] - 2s 15ms/step - loss: 0.0213 - accuracy: 0.9932 - val_loss: 0.4497 - val_accuracy: 0.9059\n",
            "Epoch 45/50\n",
            "144/144 [==============================] - 2s 15ms/step - loss: 0.0232 - accuracy: 0.9917 - val_loss: 0.3782 - val_accuracy: 0.8980\n",
            "Epoch 46/50\n",
            "144/144 [==============================] - 2s 17ms/step - loss: 0.0143 - accuracy: 0.9956 - val_loss: 0.3840 - val_accuracy: 0.9431\n",
            "Epoch 47/50\n",
            "144/144 [==============================] - 3s 19ms/step - loss: 0.0201 - accuracy: 0.9924 - val_loss: 0.3624 - val_accuracy: 0.9059\n",
            "Epoch 48/50\n",
            "144/144 [==============================] - 2s 15ms/step - loss: 0.0127 - accuracy: 0.9961 - val_loss: 0.3265 - val_accuracy: 0.9353\n",
            "Epoch 49/50\n",
            "144/144 [==============================] - 2s 15ms/step - loss: 0.0074 - accuracy: 0.9985 - val_loss: 0.2668 - val_accuracy: 0.9275\n",
            "Epoch 50/50\n",
            "144/144 [==============================] - 2s 15ms/step - loss: 0.0066 - accuracy: 0.9969 - val_loss: 0.2425 - val_accuracy: 0.9294\n",
            "{'loss': [0.4780498445034027, 0.22833892703056335, 0.1338191032409668, 0.09500551968812943, 0.06599614769220352, 0.05120530724525452, 0.03751078248023987, 0.02920144982635975, 0.025121763348579407, 0.02439730428159237, 0.018528757616877556, 0.017767446115612984, 0.02476869896054268, 0.01756691373884678, 0.015723034739494324, 0.014045482501387596, 0.012624327093362808, 0.010828767903149128, 0.008771452121436596, 0.013878000900149345, 0.012729426845908165, 0.013802590779960155, 0.021777713671326637, 0.023863472044467926, 0.012266402132809162, 0.010809305123984814, 0.00935468077659607, 0.009615276008844376, 0.015330654568970203, 0.01142462994903326, 0.019264008849859238, 0.01472729817032814, 0.007606987375766039, 0.005552489310503006, 0.0051520769484341145, 0.007112689316272736, 0.010839922353625298, 0.007317409850656986, 0.005928283557295799, 0.006827058736234903, 0.010065908543765545, 0.02015770971775055, 0.010843947529792786, 0.02131636068224907, 0.023228609934449196, 0.01433640718460083, 0.020140567794442177, 0.012660901993513107, 0.007403851021081209, 0.006633318029344082], 'accuracy': [0.7810457348823547, 0.9394335746765137, 0.9662309288978577, 0.9773420691490173, 0.98562091588974, 0.9880174398422241, 0.9932461977005005, 0.9947712421417236, 0.9941176176071167, 0.9949890971183777, 0.9962962865829468, 0.9949890971183777, 0.9925925731658936, 0.9952069520950317, 0.9960784316062927, 0.9967319965362549, 0.9965141415596008, 0.9976034760475159, 0.9978213310241699, 0.9962962865829468, 0.9962962865829468, 0.9965141415596008, 0.9917211532592773, 0.9917211532592773, 0.9971677660942078, 0.9978213310241699, 0.9960784316062927, 0.9969499111175537, 0.9952069520950317, 0.9962962865829468, 0.9930283427238464, 0.9952069520950317, 0.9984749555587769, 0.9986928105354309, 0.9986928105354309, 0.9976034760475159, 0.9960784316062927, 0.9978213310241699, 0.9984749555587769, 0.9973856210708618, 0.9969499111175537, 0.9906318187713623, 0.9962962865829468, 0.9932461977005005, 0.9917211532592773, 0.9956427216529846, 0.9923747181892395, 0.9960784316062927, 0.9984749555587769, 0.9969499111175537], 'val_loss': [0.2657971978187561, 0.1881612241268158, 0.18355177342891693, 0.1366792619228363, 0.12199386209249496, 0.14621928334236145, 0.14726093411445618, 0.14904938638210297, 0.16173838078975677, 0.13217097520828247, 0.15255409479141235, 0.17913387715816498, 0.18795333802700043, 0.18801778554916382, 0.19202329218387604, 0.25706735253334045, 0.17918793857097626, 0.18309618532657623, 0.2130797952413559, 0.22974035143852234, 0.19277986884117126, 0.2503882348537445, 0.4184481203556061, 0.21504279971122742, 0.25997984409332275, 0.18791738152503967, 0.24049048125743866, 0.21009103953838348, 0.2513097822666168, 0.3423910140991211, 0.2369237095117569, 0.24868910014629364, 0.21589452028274536, 0.25771912932395935, 0.3302946090698242, 0.28539904952049255, 0.29668277502059937, 0.2637450397014618, 0.2451780140399933, 0.26669418811798096, 0.300327867269516, 0.3136101961135864, 0.2510940432548523, 0.44973188638687134, 0.378221720457077, 0.38401514291763306, 0.3624383807182312, 0.3265290856361389, 0.26681390404701233, 0.24246355891227722], 'val_accuracy': [0.9078431129455566, 0.9450980424880981, 0.9352940917015076, 0.9529411792755127, 0.9607843160629272, 0.9450980424880981, 0.954901933670044, 0.9509803652763367, 0.9372549057006836, 0.9490196108818054, 0.9450980424880981, 0.9333333373069763, 0.9411764740943909, 0.9313725233078003, 0.9411764740943909, 0.9098039269447327, 0.929411768913269, 0.9450980424880981, 0.9392156600952148, 0.9490196108818054, 0.9411764740943909, 0.9313725233078003, 0.8764705657958984, 0.9333333373069763, 0.9313725233078003, 0.9470587968826294, 0.9372549057006836, 0.9392156600952148, 0.929411768913269, 0.884313702583313, 0.9392156600952148, 0.9235293865203857, 0.9411764740943909, 0.9333333373069763, 0.9372549057006836, 0.927450954914093, 0.9392156600952148, 0.9235293865203857, 0.9372549057006836, 0.9333333373069763, 0.9411764740943909, 0.9196078181266785, 0.9372549057006836, 0.9058823585510254, 0.8980392217636108, 0.9431372284889221, 0.9058823585510254, 0.9352940917015076, 0.927450954914093, 0.929411768913269]}\n",
            "--- 145.5519573688507 seconds ---\n",
            "{'loss': 0.34004756808280945, 'accuracy': 0.9244444370269775}\n"
          ]
        }
      ]
    },
    {
      "cell_type": "markdown",
      "source": [
        "#Define a model for test various optimizers : SGD، SGD with momentum، Nesterov SGD with momentum، AdaGrad، Adam , Nadam "
      ],
      "metadata": {
        "id": "hChc_lPfqkI1"
      }
    },
    {
      "cell_type": "code",
      "source": [
        "model_Optimizer_Testing = keras.models.Sequential([\n",
        "  keras.layers.Flatten(input_shape=[32, 32, 3]),\n",
        "  keras.layers.Dense(160, activation =\"relu\"),\n",
        "  keras.layers.BatchNormalization(),\n",
        "  keras.layers.Dense(352, activation='relu'),\n",
        "  keras.layers.BatchNormalization(),\n",
        "  keras.layers.Dense(512, activation='relu'),\n",
        "  keras.layers.BatchNormalization(),\n",
        "  keras.layers.Dense(384, activation='relu'),\n",
        "  keras.layers.BatchNormalization(),\n",
        "  keras.layers.Dense(10, activation=\"softmax\")\n",
        "])\n",
        "\n",
        "\n",
        "print(model_Optimizer_Testing.summary())\n"
      ],
      "metadata": {
        "colab": {
          "base_uri": "https://localhost:8080/"
        },
        "id": "bxQxTeVQBbmp",
        "outputId": "bfadd515-a974-4650-c7b7-55038c5dd063"
      },
      "execution_count": null,
      "outputs": [
        {
          "output_type": "stream",
          "name": "stdout",
          "text": [
            "Model: \"sequential_2\"\n",
            "_________________________________________________________________\n",
            " Layer (type)                Output Shape              Param #   \n",
            "=================================================================\n",
            " flatten_2 (Flatten)         (None, 3072)              0         \n",
            "                                                                 \n",
            " dense_10 (Dense)            (None, 160)               491680    \n",
            "                                                                 \n",
            " batch_normalization_8 (Batc  (None, 160)              640       \n",
            " hNormalization)                                                 \n",
            "                                                                 \n",
            " dense_11 (Dense)            (None, 352)               56672     \n",
            "                                                                 \n",
            " batch_normalization_9 (Batc  (None, 352)              1408      \n",
            " hNormalization)                                                 \n",
            "                                                                 \n",
            " dense_12 (Dense)            (None, 512)               180736    \n",
            "                                                                 \n",
            " batch_normalization_10 (Bat  (None, 512)              2048      \n",
            " chNormalization)                                                \n",
            "                                                                 \n",
            " dense_13 (Dense)            (None, 384)               196992    \n",
            "                                                                 \n",
            " batch_normalization_11 (Bat  (None, 384)              1536      \n",
            " chNormalization)                                                \n",
            "                                                                 \n",
            " dense_14 (Dense)            (None, 10)                3850      \n",
            "                                                                 \n",
            "=================================================================\n",
            "Total params: 935,562\n",
            "Trainable params: 932,746\n",
            "Non-trainable params: 2,816\n",
            "_________________________________________________________________\n",
            "None\n"
          ]
        }
      ]
    },
    {
      "cell_type": "code",
      "source": [
        "lr = 0.0001\n",
        "loss=[]\n",
        "accuracy=[]\n",
        "\n",
        "# Define the optimizers\n",
        "sgd = keras.optimizers.SGD(lr)\n",
        "momentum = keras.optimizers.SGD(lr, momentum=0.9)\n",
        "nesterov = keras.optimizers.SGD(lr, momentum=0.9, nesterov=True)\n",
        "adagrad = keras.optimizers.Adagrad(lr)\n",
        "adam = keras.optimizers.Adam(lr)\n",
        "nadam = keras.optimizers.Nadam(lr)\n",
        "\n",
        "optimizers = [sgd, momentum, nesterov, adagrad, adam, nadam]\n",
        "names = ['sgd','SGD with momentum','Nesterov SGD with momentum','AdaGrad','Adam','Nadam'] \n",
        "loss = []\n",
        "accuracy = []\n",
        "    \n",
        "# Train the model with each optimizer and plot the results\n",
        "\n",
        "for i, optimizer in enumerate(optimizers):\n",
        "    model_Optimizer_Testing.compile(loss=\"sparse_categorical_crossentropy\", optimizer=optimizer, metrics=[\"accuracy\"])\n",
        "\n",
        "    start_time = time.time()\n",
        "\n",
        "    model_Optimizer_Testing_history = model_Optimizer_Testing.fit(x_train, y_train, batch_size=32, epochs=50, verbose=0, validation_split=0.1)\n",
        "    lss,acc = model_Optimizer_Testing.evaluate(x_test, y_test, verbose=0)\n",
        "\n",
        "    print(names[i] ,\" finished --- %s seconds ---\" % (time.time() - start_time))\n",
        "\n",
        "    loss.append(lss)\n",
        "    accuracy.append(acc)"
      ],
      "metadata": {
        "colab": {
          "base_uri": "https://localhost:8080/"
        },
        "id": "TJSg_ZmWBt9x",
        "outputId": "cdfe7eeb-75a9-4b05-eeb2-2afa3166426e"
      },
      "execution_count": null,
      "outputs": [
        {
          "output_type": "stream",
          "name": "stdout",
          "text": [
            "sgd  finished --- 856.428295135498 seconds ---\n",
            "SGD with momentum  finished --- 916.1402587890625 seconds ---\n",
            "Nesterov SGD with momentum  finished --- 1046.6934151649475 seconds ---\n",
            "AdaGrad  finished --- 986.2908036708832 seconds ---\n",
            "Adam  finished --- 1228.265334367752 seconds ---\n",
            "Nadam  finished --- 1445.0021886825562 seconds ---\n"
          ]
        }
      ]
    },
    {
      "cell_type": "markdown",
      "source": [
        "#Result of evaluating models with various optimizers"
      ],
      "metadata": {
        "id": "KI6jTgTLq1z8"
      }
    },
    {
      "cell_type": "code",
      "source": [
        "plt.figure(figsize=(7, 4))\n",
        "plt.plot(names,loss,label='Loss')\n",
        "plt.plot(names,accuracy, label=\"Accuracy\")\n",
        "plt.xticks(rotation = 90)\n",
        "plt.legend()\n",
        "plt.show()\n",
        "\n",
        "print(\"Optimizer \", names)\n",
        "print('Loss ',loss)\n",
        "print('Accuracy', accuracy)\n",
        "print('Time',time)\n"
      ],
      "metadata": {
        "colab": {
          "base_uri": "https://localhost:8080/",
          "height": 639
        },
        "id": "4ROnoFE9E0_B",
        "outputId": "d8de665e-1394-4ff0-c1e8-01f2f7e60984"
      },
      "execution_count": null,
      "outputs": [
        {
          "output_type": "display_data",
          "data": {
            "text/plain": [
              "<Figure size 700x400 with 1 Axes>"
            ],
            "image/png": "[encoded data removed]"
          },
          "metadata": {}
        },
        {
          "output_type": "stream",
          "name": "stdout",
          "text": [
            "Optimizer  ['sgd', 'SGD with momentum', 'Nesterov SGD with momentum', 'AdaGrad', 'Adam', 'Nadam']\n",
            "Loss  [1.3471697568893433, 1.5886809825897217, 1.9963346719741821, 1.878178596496582, 2.469599962234497, 2.756182909011841]\n",
            "Accuracy [0.5311111211776733, 0.5230000019073486, 0.4978888928890228, 0.5216666460037231, 0.48277777433395386, 0.49311110377311707]\n",
            "Time ['856.428295135498', '916.1402587890625', '1046.6934151649475 ', '986.2908036708832 ', '1228.265334367752', '1445.0021886825562']\n"
          ]
        }
      ]
    },
    {
      "cell_type": "markdown",
      "source": [
        "# Create a model with L2=0.01 in first hidden layer and a DropoutLayer(Drop=0.2) after last Hidden layer"
      ],
      "metadata": {
        "id": "8Ary_QM74GVb"
      }
    },
    {
      "cell_type": "code",
      "source": [
        "model_Regularize_Testing = keras.models.Sequential([\n",
        "  keras.layers.Flatten(input_shape=[32, 32, 3]),\n",
        "  keras.layers.Dense(160, activation =\"relu\", kernel_initializer = 'he_normal', \n",
        "                    kernel_regularizer=keras.regularizers.l2(0.01)),\n",
        "  keras.layers.Dense(352, activation='relu', kernel_initializer = 'he_normal'),\n",
        "  keras.layers.Dense(512, activation='relu', kernel_initializer = 'he_normal'),\n",
        "  keras.layers.Dense(384, activation='relu', kernel_initializer = 'he_normal'),\n",
        "  keras.layers.Dropout(0.2),  \n",
        "  keras.layers.Dense(10, activation=\"softmax\")\n",
        "])\n",
        "print(model_Regularize_Testing.summary())\n",
        "\n",
        "lr = 0.00032699677404287816\n",
        "model_Regularize_Testing.compile(\n",
        "        optimizer=keras.optimizers.Adam(learning_rate=lr),\n",
        "        loss=\"sparse_categorical_crossentropy\",\n",
        "        metrics=[\"accuracy\"],\n",
        "    )"
      ],
      "metadata": {
        "id": "I_1wj-ivJS5P",
        "colab": {
          "base_uri": "https://localhost:8080/"
        },
        "outputId": "97d61ce9-9deb-46b0-8c57-b06b81fe79b2"
      },
      "execution_count": null,
      "outputs": [
        {
          "output_type": "stream",
          "name": "stdout",
          "text": [
            "Model: \"sequential_5\"\n",
            "_________________________________________________________________\n",
            " Layer (type)                Output Shape              Param #   \n",
            "=================================================================\n",
            " flatten_11 (Flatten)        (None, 3072)              0         \n",
            "                                                                 \n",
            " dense_26 (Dense)            (None, 160)               491680    \n",
            "                                                                 \n",
            " dense_27 (Dense)            (None, 352)               56672     \n",
            "                                                                 \n",
            " dense_28 (Dense)            (None, 512)               180736    \n",
            "                                                                 \n",
            " dense_29 (Dense)            (None, 384)               196992    \n",
            "                                                                 \n",
            " dropout_3 (Dropout)         (None, 384)               0         \n",
            "                                                                 \n",
            " dense_30 (Dense)            (None, 10)                3850      \n",
            "                                                                 \n",
            "=================================================================\n",
            "Total params: 929,930\n",
            "Trainable params: 929,930\n",
            "Non-trainable params: 0\n",
            "_________________________________________________________________\n",
            "None\n"
          ]
        }
      ]
    },
    {
      "cell_type": "code",
      "source": [
        "model_Regularize_Testing_history = model_Regularize_Testing.fit(x_train, y_train, batch_size=32 , epochs=100, validation_split=0.1)\n",
        "print(model_Regularize_Testing_history.history)"
      ],
      "metadata": {
        "colab": {
          "base_uri": "https://localhost:8080/"
        },
        "id": "Dj6NGR0fGa0s",
        "outputId": "bbdb349e-8506-40b1-81d8-95dbd51be654"
      },
      "execution_count": null,
      "outputs": [
        {
          "output_type": "stream",
          "name": "stdout",
          "text": [
            "Epoch 1/100\n",
            "1435/1435 [==============================] - 28s 19ms/step - loss: 2.4792 - accuracy: 0.3139 - val_loss: 1.9145 - val_accuracy: 0.3557\n",
            "Epoch 2/100\n",
            "1435/1435 [==============================] - 27s 19ms/step - loss: 1.8440 - accuracy: 0.3770 - val_loss: 1.7149 - val_accuracy: 0.4151\n",
            "Epoch 3/100\n",
            "1435/1435 [==============================] - 26s 18ms/step - loss: 1.7335 - accuracy: 0.4076 - val_loss: 1.7041 - val_accuracy: 0.4110\n",
            "Epoch 4/100\n",
            "1435/1435 [==============================] - 25s 18ms/step - loss: 1.6737 - accuracy: 0.4255 - val_loss: 1.6679 - val_accuracy: 0.4320\n",
            "Epoch 5/100\n",
            "1435/1435 [==============================] - 24s 17ms/step - loss: 1.6318 - accuracy: 0.4393 - val_loss: 1.5902 - val_accuracy: 0.4625\n",
            "Epoch 6/100\n",
            "1435/1435 [==============================] - 26s 18ms/step - loss: 1.6112 - accuracy: 0.4505 - val_loss: 1.6076 - val_accuracy: 0.4443\n",
            "Epoch 7/100\n",
            "1435/1435 [==============================] - 25s 17ms/step - loss: 1.5889 - accuracy: 0.4572 - val_loss: 1.6237 - val_accuracy: 0.4484\n",
            "Epoch 8/100\n",
            "1435/1435 [==============================] - 25s 18ms/step - loss: 1.5644 - accuracy: 0.4661 - val_loss: 1.6387 - val_accuracy: 0.4365\n",
            "Epoch 9/100\n",
            "1435/1435 [==============================] - 25s 18ms/step - loss: 1.5470 - accuracy: 0.4719 - val_loss: 1.6360 - val_accuracy: 0.4465\n",
            "Epoch 10/100\n",
            "1435/1435 [==============================] - 25s 18ms/step - loss: 1.5290 - accuracy: 0.4797 - val_loss: 1.5574 - val_accuracy: 0.4682\n",
            "Epoch 11/100\n",
            "1435/1435 [==============================] - 24s 16ms/step - loss: 1.5175 - accuracy: 0.4851 - val_loss: 1.5658 - val_accuracy: 0.4757\n",
            "Epoch 12/100\n",
            "1435/1435 [==============================] - 25s 17ms/step - loss: 1.5055 - accuracy: 0.4923 - val_loss: 1.5999 - val_accuracy: 0.4563\n",
            "Epoch 13/100\n",
            "1435/1435 [==============================] - 26s 18ms/step - loss: 1.4884 - accuracy: 0.4959 - val_loss: 1.5396 - val_accuracy: 0.4831\n",
            "Epoch 14/100\n",
            "1435/1435 [==============================] - 25s 18ms/step - loss: 1.4801 - accuracy: 0.5023 - val_loss: 1.5593 - val_accuracy: 0.4825\n",
            "Epoch 15/100\n",
            "1435/1435 [==============================] - 25s 18ms/step - loss: 1.4518 - accuracy: 0.5098 - val_loss: 1.6249 - val_accuracy: 0.4614\n",
            "Epoch 16/100\n",
            "1435/1435 [==============================] - 24s 17ms/step - loss: 1.4470 - accuracy: 0.5101 - val_loss: 1.5841 - val_accuracy: 0.4696\n",
            "Epoch 17/100\n",
            "1435/1435 [==============================] - 26s 18ms/step - loss: 1.4401 - accuracy: 0.5158 - val_loss: 1.5652 - val_accuracy: 0.4796\n",
            "Epoch 18/100\n",
            "1435/1435 [==============================] - 27s 19ms/step - loss: 1.4212 - accuracy: 0.5233 - val_loss: 1.5864 - val_accuracy: 0.4769\n",
            "Epoch 19/100\n",
            "1435/1435 [==============================] - 27s 19ms/step - loss: 1.4058 - accuracy: 0.5285 - val_loss: 1.5292 - val_accuracy: 0.4929\n",
            "Epoch 20/100\n",
            "1435/1435 [==============================] - 25s 17ms/step - loss: 1.3949 - accuracy: 0.5308 - val_loss: 1.6156 - val_accuracy: 0.4722\n",
            "Epoch 21/100\n",
            "1435/1435 [==============================] - 25s 17ms/step - loss: 1.3837 - accuracy: 0.5406 - val_loss: 1.6016 - val_accuracy: 0.4667\n",
            "Epoch 22/100\n",
            "1435/1435 [==============================] - 25s 17ms/step - loss: 1.3682 - accuracy: 0.5444 - val_loss: 1.5717 - val_accuracy: 0.4953\n",
            "Epoch 23/100\n",
            "1435/1435 [==============================] - 25s 17ms/step - loss: 1.3529 - accuracy: 0.5493 - val_loss: 1.5548 - val_accuracy: 0.4988\n",
            "Epoch 24/100\n",
            "1435/1435 [==============================] - 26s 18ms/step - loss: 1.3377 - accuracy: 0.5571 - val_loss: 1.6258 - val_accuracy: 0.4712\n",
            "Epoch 25/100\n",
            "1435/1435 [==============================] - 25s 17ms/step - loss: 1.3226 - accuracy: 0.5601 - val_loss: 1.6197 - val_accuracy: 0.4731\n",
            "Epoch 26/100\n",
            "1435/1435 [==============================] - 27s 18ms/step - loss: 1.3128 - accuracy: 0.5625 - val_loss: 1.6696 - val_accuracy: 0.4667\n",
            "Epoch 27/100\n",
            "1435/1435 [==============================] - 25s 18ms/step - loss: 1.2916 - accuracy: 0.5719 - val_loss: 1.7015 - val_accuracy: 0.4620\n",
            "Epoch 28/100\n",
            "1435/1435 [==============================] - 24s 17ms/step - loss: 1.2792 - accuracy: 0.5773 - val_loss: 1.6323 - val_accuracy: 0.4878\n",
            "Epoch 29/100\n",
            "1435/1435 [==============================] - 25s 17ms/step - loss: 1.2664 - accuracy: 0.5817 - val_loss: 1.6409 - val_accuracy: 0.4812\n",
            "Epoch 30/100\n",
            "1435/1435 [==============================] - 25s 18ms/step - loss: 1.2504 - accuracy: 0.5854 - val_loss: 1.6325 - val_accuracy: 0.4904\n",
            "Epoch 31/100\n",
            "1435/1435 [==============================] - 25s 18ms/step - loss: 1.2311 - accuracy: 0.5936 - val_loss: 1.6814 - val_accuracy: 0.4771\n",
            "Epoch 32/100\n",
            "1435/1435 [==============================] - 26s 18ms/step - loss: 1.2141 - accuracy: 0.6010 - val_loss: 1.6737 - val_accuracy: 0.4896\n",
            "Epoch 33/100\n",
            "1435/1435 [==============================] - 25s 17ms/step - loss: 1.2020 - accuracy: 0.6062 - val_loss: 1.7097 - val_accuracy: 0.4929\n",
            "Epoch 34/100\n",
            "1435/1435 [==============================] - 25s 18ms/step - loss: 1.1769 - accuracy: 0.6170 - val_loss: 1.7258 - val_accuracy: 0.4724\n",
            "Epoch 35/100\n",
            "1435/1435 [==============================] - 25s 18ms/step - loss: 1.1692 - accuracy: 0.6197 - val_loss: 1.7438 - val_accuracy: 0.4729\n",
            "Epoch 36/100\n",
            "1435/1435 [==============================] - 25s 18ms/step - loss: 1.1461 - accuracy: 0.6297 - val_loss: 1.7188 - val_accuracy: 0.4955\n",
            "Epoch 37/100\n",
            "1435/1435 [==============================] - 25s 17ms/step - loss: 1.1418 - accuracy: 0.6311 - val_loss: 1.7976 - val_accuracy: 0.4616\n",
            "Epoch 38/100\n",
            "1435/1435 [==============================] - 25s 17ms/step - loss: 1.1110 - accuracy: 0.6421 - val_loss: 1.7646 - val_accuracy: 0.4908\n",
            "Epoch 39/100\n",
            "1435/1435 [==============================] - 27s 19ms/step - loss: 1.1015 - accuracy: 0.6474 - val_loss: 1.8450 - val_accuracy: 0.4731\n",
            "Epoch 40/100\n",
            "1435/1435 [==============================] - 25s 17ms/step - loss: 1.0821 - accuracy: 0.6546 - val_loss: 1.9273 - val_accuracy: 0.4486\n",
            "Epoch 41/100\n",
            "1435/1435 [==============================] - 25s 18ms/step - loss: 1.0694 - accuracy: 0.6597 - val_loss: 1.8654 - val_accuracy: 0.4694\n",
            "Epoch 42/100\n",
            "1435/1435 [==============================] - 25s 18ms/step - loss: 1.0561 - accuracy: 0.6653 - val_loss: 1.8395 - val_accuracy: 0.4951\n",
            "Epoch 43/100\n",
            "1435/1435 [==============================] - 24s 17ms/step - loss: 1.0373 - accuracy: 0.6733 - val_loss: 1.8935 - val_accuracy: 0.4692\n",
            "Epoch 44/100\n",
            "1435/1435 [==============================] - 26s 18ms/step - loss: 1.0221 - accuracy: 0.6768 - val_loss: 1.8563 - val_accuracy: 0.4847\n",
            "Epoch 45/100\n",
            "1435/1435 [==============================] - 27s 19ms/step - loss: 1.0118 - accuracy: 0.6816 - val_loss: 1.8829 - val_accuracy: 0.4798\n",
            "Epoch 46/100\n",
            "1435/1435 [==============================] - 26s 18ms/step - loss: 0.9884 - accuracy: 0.6901 - val_loss: 1.9340 - val_accuracy: 0.4808\n",
            "Epoch 47/100\n",
            "1435/1435 [==============================] - 25s 18ms/step - loss: 0.9854 - accuracy: 0.6924 - val_loss: 1.9461 - val_accuracy: 0.4708\n",
            "Epoch 48/100\n",
            "1435/1435 [==============================] - 25s 18ms/step - loss: 0.9678 - accuracy: 0.6993 - val_loss: 2.0180 - val_accuracy: 0.4610\n",
            "Epoch 49/100\n",
            "1435/1435 [==============================] - 24s 17ms/step - loss: 0.9634 - accuracy: 0.7029 - val_loss: 2.0041 - val_accuracy: 0.4798\n",
            "Epoch 50/100\n",
            "1435/1435 [==============================] - 26s 18ms/step - loss: 0.9463 - accuracy: 0.7088 - val_loss: 2.0066 - val_accuracy: 0.4761\n",
            "Epoch 51/100\n",
            "1435/1435 [==============================] - 26s 18ms/step - loss: 0.9134 - accuracy: 0.7221 - val_loss: 2.0771 - val_accuracy: 0.4716\n",
            "Epoch 52/100\n",
            "1435/1435 [==============================] - 27s 19ms/step - loss: 0.9148 - accuracy: 0.7216 - val_loss: 2.0927 - val_accuracy: 0.4782\n",
            "Epoch 53/100\n",
            "1435/1435 [==============================] - 26s 18ms/step - loss: 0.8929 - accuracy: 0.7288 - val_loss: 2.1363 - val_accuracy: 0.4702\n",
            "Epoch 54/100\n",
            "1435/1435 [==============================] - 24s 17ms/step - loss: 0.8807 - accuracy: 0.7336 - val_loss: 2.1528 - val_accuracy: 0.4745\n",
            "Epoch 55/100\n",
            "1435/1435 [==============================] - 25s 17ms/step - loss: 0.8750 - accuracy: 0.7356 - val_loss: 2.1883 - val_accuracy: 0.4837\n",
            "Epoch 56/100\n",
            "1435/1435 [==============================] - 25s 18ms/step - loss: 0.8551 - accuracy: 0.7448 - val_loss: 2.2504 - val_accuracy: 0.4667\n",
            "Epoch 57/100\n",
            "1435/1435 [==============================] - 26s 18ms/step - loss: 0.8572 - accuracy: 0.7427 - val_loss: 2.2315 - val_accuracy: 0.4759\n",
            "Epoch 58/100\n",
            "1435/1435 [==============================] - 27s 19ms/step - loss: 0.8345 - accuracy: 0.7519 - val_loss: 2.3877 - val_accuracy: 0.4635\n",
            "Epoch 59/100\n",
            "1435/1435 [==============================] - 25s 17ms/step - loss: 0.8403 - accuracy: 0.7536 - val_loss: 2.2998 - val_accuracy: 0.4776\n",
            "Epoch 60/100\n",
            "1435/1435 [==============================] - 25s 17ms/step - loss: 0.8155 - accuracy: 0.7622 - val_loss: 2.2908 - val_accuracy: 0.4629\n",
            "Epoch 61/100\n",
            "1435/1435 [==============================] - 25s 18ms/step - loss: 0.8072 - accuracy: 0.7627 - val_loss: 2.3348 - val_accuracy: 0.4659\n",
            "Epoch 62/100\n",
            "1435/1435 [==============================] - 25s 18ms/step - loss: 0.8054 - accuracy: 0.7642 - val_loss: 2.3308 - val_accuracy: 0.4714\n",
            "Epoch 63/100\n",
            "1435/1435 [==============================] - 26s 18ms/step - loss: 0.7898 - accuracy: 0.7734 - val_loss: 2.4592 - val_accuracy: 0.4675\n",
            "Epoch 64/100\n",
            "1435/1435 [==============================] - 25s 18ms/step - loss: 0.7841 - accuracy: 0.7723 - val_loss: 2.3567 - val_accuracy: 0.4741\n",
            "Epoch 65/100\n",
            "1435/1435 [==============================] - 26s 18ms/step - loss: 0.7784 - accuracy: 0.7776 - val_loss: 2.5392 - val_accuracy: 0.4557\n",
            "Epoch 66/100\n",
            "1435/1435 [==============================] - 25s 18ms/step - loss: 0.7509 - accuracy: 0.7861 - val_loss: 2.4392 - val_accuracy: 0.4720\n",
            "Epoch 67/100\n",
            "1435/1435 [==============================] - 25s 18ms/step - loss: 0.7494 - accuracy: 0.7873 - val_loss: 2.6323 - val_accuracy: 0.4451\n",
            "Epoch 68/100\n",
            "1435/1435 [==============================] - 25s 18ms/step - loss: 0.7386 - accuracy: 0.7912 - val_loss: 2.6063 - val_accuracy: 0.4690\n",
            "Epoch 69/100\n",
            "1435/1435 [==============================] - 25s 18ms/step - loss: 0.7358 - accuracy: 0.7929 - val_loss: 2.6377 - val_accuracy: 0.4627\n",
            "Epoch 70/100\n",
            "1435/1435 [==============================] - 24s 17ms/step - loss: 0.7167 - accuracy: 0.8001 - val_loss: 2.6212 - val_accuracy: 0.4637\n",
            "Epoch 71/100\n",
            "1435/1435 [==============================] - 27s 19ms/step - loss: 0.7302 - accuracy: 0.7937 - val_loss: 2.6265 - val_accuracy: 0.4578\n",
            "Epoch 72/100\n",
            "1435/1435 [==============================] - 25s 18ms/step - loss: 0.7079 - accuracy: 0.8060 - val_loss: 2.6861 - val_accuracy: 0.4661\n",
            "Epoch 73/100\n",
            "1435/1435 [==============================] - 25s 17ms/step - loss: 0.6928 - accuracy: 0.8097 - val_loss: 2.6612 - val_accuracy: 0.4690\n",
            "Epoch 74/100\n",
            "1435/1435 [==============================] - 25s 18ms/step - loss: 0.7063 - accuracy: 0.8045 - val_loss: 2.7491 - val_accuracy: 0.4627\n",
            "Epoch 75/100\n",
            "1435/1435 [==============================] - 25s 17ms/step - loss: 0.7056 - accuracy: 0.8049 - val_loss: 2.7242 - val_accuracy: 0.4584\n",
            "Epoch 76/100\n",
            "1435/1435 [==============================] - 25s 17ms/step - loss: 0.6941 - accuracy: 0.8124 - val_loss: 2.7497 - val_accuracy: 0.4765\n",
            "Epoch 77/100\n",
            "1435/1435 [==============================] - 27s 19ms/step - loss: 0.6812 - accuracy: 0.8149 - val_loss: 2.8960 - val_accuracy: 0.4610\n",
            "Epoch 78/100\n",
            "1435/1435 [==============================] - 25s 18ms/step - loss: 0.6667 - accuracy: 0.8210 - val_loss: 2.8363 - val_accuracy: 0.4680\n",
            "Epoch 79/100\n",
            "1435/1435 [==============================] - 25s 18ms/step - loss: 0.6841 - accuracy: 0.8152 - val_loss: 2.9481 - val_accuracy: 0.4531\n",
            "Epoch 80/100\n",
            "1435/1435 [==============================] - 25s 17ms/step - loss: 0.6682 - accuracy: 0.8219 - val_loss: 2.8609 - val_accuracy: 0.4653\n",
            "Epoch 81/100\n",
            "1435/1435 [==============================] - 25s 17ms/step - loss: 0.6603 - accuracy: 0.8243 - val_loss: 2.7788 - val_accuracy: 0.4598\n",
            "Epoch 82/100\n",
            "1435/1435 [==============================] - 26s 18ms/step - loss: 0.6610 - accuracy: 0.8240 - val_loss: 2.9331 - val_accuracy: 0.4608\n",
            "Epoch 83/100\n",
            "1435/1435 [==============================] - 25s 18ms/step - loss: 0.6453 - accuracy: 0.8302 - val_loss: 2.9080 - val_accuracy: 0.4675\n",
            "Epoch 84/100\n",
            "1435/1435 [==============================] - 27s 19ms/step - loss: 0.6535 - accuracy: 0.8285 - val_loss: 2.7888 - val_accuracy: 0.4614\n",
            "Epoch 85/100\n",
            "1435/1435 [==============================] - 25s 18ms/step - loss: 0.6395 - accuracy: 0.8336 - val_loss: 3.0122 - val_accuracy: 0.4598\n",
            "Epoch 86/100\n",
            "1435/1435 [==============================] - 24s 17ms/step - loss: 0.6446 - accuracy: 0.8319 - val_loss: 2.9483 - val_accuracy: 0.4639\n",
            "Epoch 87/100\n",
            "1435/1435 [==============================] - 25s 18ms/step - loss: 0.6322 - accuracy: 0.8364 - val_loss: 3.1592 - val_accuracy: 0.4373\n",
            "Epoch 88/100\n",
            "1435/1435 [==============================] - 25s 18ms/step - loss: 0.6321 - accuracy: 0.8355 - val_loss: 2.9832 - val_accuracy: 0.4602\n",
            "Epoch 89/100\n",
            "1435/1435 [==============================] - 25s 18ms/step - loss: 0.6121 - accuracy: 0.8448 - val_loss: 3.1471 - val_accuracy: 0.4616\n",
            "Epoch 90/100\n",
            "1435/1435 [==============================] - 26s 18ms/step - loss: 0.6346 - accuracy: 0.8366 - val_loss: 3.0018 - val_accuracy: 0.4612\n",
            "Epoch 91/100\n",
            "1435/1435 [==============================] - 26s 18ms/step - loss: 0.5954 - accuracy: 0.8495 - val_loss: 3.0408 - val_accuracy: 0.4545\n",
            "Epoch 92/100\n",
            "1435/1435 [==============================] - 25s 18ms/step - loss: 0.6158 - accuracy: 0.8445 - val_loss: 3.2487 - val_accuracy: 0.4553\n",
            "Epoch 93/100\n",
            "1435/1435 [==============================] - 25s 18ms/step - loss: 0.6034 - accuracy: 0.8467 - val_loss: 3.1991 - val_accuracy: 0.4533\n",
            "Epoch 94/100\n",
            "1435/1435 [==============================] - 26s 18ms/step - loss: 0.6120 - accuracy: 0.8444 - val_loss: 3.0376 - val_accuracy: 0.4627\n",
            "Epoch 95/100\n",
            "1435/1435 [==============================] - 25s 17ms/step - loss: 0.6009 - accuracy: 0.8491 - val_loss: 3.2459 - val_accuracy: 0.4663\n",
            "Epoch 96/100\n",
            "1435/1435 [==============================] - 27s 18ms/step - loss: 0.6028 - accuracy: 0.8481 - val_loss: 3.1831 - val_accuracy: 0.4596\n",
            "Epoch 97/100\n",
            "1435/1435 [==============================] - 25s 18ms/step - loss: 0.6033 - accuracy: 0.8467 - val_loss: 3.2271 - val_accuracy: 0.4506\n",
            "Epoch 98/100\n",
            "1435/1435 [==============================] - 25s 18ms/step - loss: 0.5830 - accuracy: 0.8560 - val_loss: 3.1009 - val_accuracy: 0.4610\n",
            "Epoch 99/100\n",
            "1435/1435 [==============================] - 26s 18ms/step - loss: 0.5853 - accuracy: 0.8542 - val_loss: 3.3022 - val_accuracy: 0.4565\n",
            "Epoch 100/100\n",
            "1435/1435 [==============================] - 25s 17ms/step - loss: 0.5882 - accuracy: 0.8530 - val_loss: 3.2745 - val_accuracy: 0.4637\n",
            "{'loss': [2.4791946411132812, 1.8440054655075073, 1.7334952354431152, 1.673661470413208, 1.6318480968475342, 1.6111936569213867, 1.5889286994934082, 1.5643869638442993, 1.5469905138015747, 1.5289562940597534, 1.517520546913147, 1.5055296421051025, 1.488365888595581, 1.4800816774368286, 1.451765537261963, 1.4470438957214355, 1.440085768699646, 1.4212270975112915, 1.4058399200439453, 1.3949307203292847, 1.3836809396743774, 1.3681939840316772, 1.352851390838623, 1.3376884460449219, 1.322625994682312, 1.3128002882003784, 1.291582703590393, 1.2791723012924194, 1.266433835029602, 1.2503955364227295, 1.2311408519744873, 1.2141319513320923, 1.2019879817962646, 1.1768745183944702, 1.1691831350326538, 1.146122694015503, 1.1418304443359375, 1.1109591722488403, 1.1014679670333862, 1.0821430683135986, 1.0693706274032593, 1.05611252784729, 1.0372605323791504, 1.0221201181411743, 1.011767029762268, 0.9884149432182312, 0.9853680729866028, 0.9677674174308777, 0.9633613228797913, 0.946277916431427, 0.9133738279342651, 0.9148337244987488, 0.8929311633110046, 0.8807032704353333, 0.8749836683273315, 0.8550915718078613, 0.8572002649307251, 0.834450900554657, 0.8403058052062988, 0.8155271410942078, 0.8072423934936523, 0.8053598403930664, 0.7898364067077637, 0.7840887904167175, 0.7784311771392822, 0.7508637309074402, 0.7493654489517212, 0.738556981086731, 0.7358311414718628, 0.7166719436645508, 0.7301725149154663, 0.7079414129257202, 0.6927539706230164, 0.7063205242156982, 0.7055863738059998, 0.6941352486610413, 0.681154191493988, 0.6666852235794067, 0.6841144561767578, 0.6682299971580505, 0.6603035926818848, 0.6609960794448853, 0.6453111171722412, 0.6535331606864929, 0.639499306678772, 0.6446486711502075, 0.6322069764137268, 0.632112443447113, 0.6121315360069275, 0.6346129775047302, 0.5954131484031677, 0.6157969832420349, 0.6033919453620911, 0.6120479106903076, 0.600911557674408, 0.6028429269790649, 0.6032922863960266, 0.583020806312561, 0.5853063464164734, 0.5882216691970825], 'accuracy': [0.31387799978256226, 0.37699347734451294, 0.4076252579689026, 0.42546841502189636, 0.43932461738586426, 0.45047929883003235, 0.45716774463653564, 0.46614378690719604, 0.47193899750709534, 0.4797385632991791, 0.4851198196411133, 0.4923311471939087, 0.49586057662963867, 0.5022875666618347, 0.509760320186615, 0.5101307034492493, 0.5157516598701477, 0.5233115553855896, 0.5284749269485474, 0.5308278799057007, 0.5406318306922913, 0.5444008708000183, 0.549324631690979, 0.557102382183075, 0.5601307153701782, 0.5624618530273438, 0.571873664855957, 0.5773420333862305, 0.5816775560379028, 0.5854030251502991, 0.5936165452003479, 0.6010239720344543, 0.6062091588973999, 0.6169934868812561, 0.6196731925010681, 0.6296514272689819, 0.6311329007148743, 0.6421132683753967, 0.6473855972290039, 0.6545969247817993, 0.6596949696540833, 0.6652505397796631, 0.6732679605484009, 0.6768409609794617, 0.6816340088844299, 0.6900653839111328, 0.6924400925636292, 0.6992592811584473, 0.7029411792755127, 0.7087799310684204, 0.7220914959907532, 0.7215903997421265, 0.7287581562995911, 0.7335512042045593, 0.7355773448944092, 0.7448148131370544, 0.742701530456543, 0.7519389986991882, 0.753551185131073, 0.7622222304344177, 0.7627450823783875, 0.764182984828949, 0.7733768820762634, 0.7722876071929932, 0.7776035070419312, 0.7861002087593079, 0.7872985005378723, 0.7911982536315918, 0.7928540110588074, 0.8001307249069214, 0.7937036752700806, 0.8059912919998169, 0.8097385764122009, 0.8045315742492676, 0.804858386516571, 0.8124400973320007, 0.8149019479751587, 0.8209586143493652, 0.8151851892471313, 0.8218954205513, 0.8242919445037842, 0.8240305185317993, 0.8301960825920105, 0.8284967541694641, 0.833594799041748, 0.8318954110145569, 0.8364052176475525, 0.8355119824409485, 0.8448148369789124, 0.8366013169288635, 0.8494771122932434, 0.8444880247116089, 0.8467320203781128, 0.8444226384162903, 0.8491067290306091, 0.8481481671333313, 0.8467102646827698, 0.8559913039207458, 0.8542265892028809, 0.8529629707336426], 'val_loss': [1.9145008325576782, 1.7149126529693604, 1.7040866613388062, 1.6678764820098877, 1.5902262926101685, 1.6075724363327026, 1.6236798763275146, 1.6387145519256592, 1.6360318660736084, 1.5574184656143188, 1.5658272504806519, 1.5998762845993042, 1.539576768875122, 1.5593031644821167, 1.62493896484375, 1.5840917825698853, 1.5651963949203491, 1.5864156484603882, 1.529215693473816, 1.615581750869751, 1.6016275882720947, 1.5717319250106812, 1.554762601852417, 1.6258119344711304, 1.6197330951690674, 1.6695659160614014, 1.701507329940796, 1.632309079170227, 1.6409105062484741, 1.6325243711471558, 1.6814340353012085, 1.673691987991333, 1.709668755531311, 1.7258214950561523, 1.7437790632247925, 1.7188103199005127, 1.797555685043335, 1.7646026611328125, 1.8450392484664917, 1.9272993803024292, 1.865409255027771, 1.8395488262176514, 1.8935303688049316, 1.8562830686569214, 1.8828563690185547, 1.933989405632019, 1.9461071491241455, 2.0180182456970215, 2.004094362258911, 2.0066394805908203, 2.077063798904419, 2.0927248001098633, 2.1363418102264404, 2.152804374694824, 2.188258171081543, 2.25036883354187, 2.231515645980835, 2.3876500129699707, 2.2997798919677734, 2.2908313274383545, 2.3347842693328857, 2.3307888507843018, 2.4591641426086426, 2.3566606044769287, 2.5391933917999268, 2.439229965209961, 2.632343053817749, 2.606325387954712, 2.637693405151367, 2.621201276779175, 2.626535415649414, 2.6860811710357666, 2.6611738204956055, 2.7491037845611572, 2.7241828441619873, 2.7496886253356934, 2.8960254192352295, 2.8363211154937744, 2.9481027126312256, 2.860948324203491, 2.7787535190582275, 2.933063507080078, 2.9080052375793457, 2.7887749671936035, 3.0122246742248535, 2.9483249187469482, 3.159153461456299, 2.9832072257995605, 3.147089958190918, 3.001753330230713, 3.040762186050415, 3.248720407485962, 3.199110984802246, 3.03755784034729, 3.2458841800689697, 3.1830601692199707, 3.2270936965942383, 3.1009209156036377, 3.3021576404571533, 3.2744569778442383], 'val_accuracy': [0.3556862771511078, 0.41509804129600525, 0.4109804034233093, 0.431960791349411, 0.46254903078079224, 0.44431373476982117, 0.4484313726425171, 0.4364705979824066, 0.44647058844566345, 0.4682352840900421, 0.47568628191947937, 0.45627450942993164, 0.48313724994659424, 0.4825490117073059, 0.4613725543022156, 0.4696078300476074, 0.47960785031318665, 0.47686275839805603, 0.4929411709308624, 0.4721568524837494, 0.46666666865348816, 0.49529412388801575, 0.49882352352142334, 0.47117647528648376, 0.4731372594833374, 0.46666666865348816, 0.4619607925415039, 0.4878431260585785, 0.4811764657497406, 0.49039214849472046, 0.4770588278770447, 0.4896078407764435, 0.4929411709308624, 0.4723529517650604, 0.47294119000434875, 0.4954901933670044, 0.4615686237812042, 0.49078431725502014, 0.4731372594833374, 0.44862744212150574, 0.4694117605686188, 0.4950980246067047, 0.4692156910896301, 0.4847058951854706, 0.4798039197921753, 0.4807843267917633, 0.4707843065261841, 0.4609803855419159, 0.4798039197921753, 0.47607842087745667, 0.47156861424446106, 0.47823530435562134, 0.47019606828689575, 0.4745098054409027, 0.48372548818588257, 0.46666666865348816, 0.475882351398468, 0.46352940797805786, 0.477647066116333, 0.46294116973876953, 0.4658823609352112, 0.4713725447654724, 0.46745097637176514, 0.474117636680603, 0.4556862711906433, 0.47196078300476074, 0.44509804248809814, 0.4690196216106415, 0.4627451002597809, 0.4637254774570465, 0.4578431248664856, 0.46607843041419983, 0.4690196216106415, 0.4627451002597809, 0.4584313631057739, 0.47647058963775635, 0.4609803855419159, 0.46803921461105347, 0.45313724875450134, 0.46529412269592285, 0.45980390906333923, 0.46078431606292725, 0.46745097637176514, 0.4613725543022156, 0.45980390906333923, 0.46392157673835754, 0.4372549057006836, 0.4601960778236389, 0.4615686237812042, 0.46117648482322693, 0.45450979471206665, 0.455294132232666, 0.4533333480358124, 0.4627451002597809, 0.4662744998931885, 0.4596078395843506, 0.4505882263183594, 0.4609803855419159, 0.4564705789089203, 0.4637254774570465]}\n"
          ]
        }
      ]
    },
    {
      "cell_type": "code",
      "source": [
        "fig, ax = plt.subplots(figsize=(12, 5))\n",
        "ax.plot(model_Regularize_Testing_history.history['loss'], label='train loss with Regularize')\n",
        "ax.plot(model_Regularize_Testing_history.history['accuracy'], label='train accuracy with Regularize')\n",
        "ax.plot(model_Regularize_Testing_history.history['val_loss'], label='validation loss with Regularize')\n",
        "ax.plot(model_Regularize_Testing_history.history['val_accuracy'], label='validation accuracy with Regularize')\n",
        "ax.legend()"
      ],
      "metadata": {
        "colab": {
          "base_uri": "https://localhost:8080/",
          "height": 462
        },
        "id": "BDhWWOILGcJT",
        "outputId": "c655235a-f7b2-4c34-9922-e5fa5315488b"
      },
      "execution_count": null,
      "outputs": [
        {
          "output_type": "execute_result",
          "data": {
            "text/plain": [
              "<matplotlib.legend.Legend at 0x7fbf47888670>"
            ]
          },
          "metadata": {},
          "execution_count": 30
        },
        {
          "output_type": "display_data",
          "data": {
            "text/plain": [
              "<Figure size 1200x500 with 1 Axes>"
            ],
            "image/png": "[encoded data removed]"
          },
          "metadata": {}
        }
      ]
    },
    {
      "cell_type": "code",
      "source": [
        "# evaluate the model\n",
        "print(model_Regularize_Testing.evaluate(x_test, y_test, verbose=0, return_dict=True))"
      ],
      "metadata": {
        "colab": {
          "base_uri": "https://localhost:8080/"
        },
        "id": "ZIm2MIleNkaN",
        "outputId": "bc417653-c924-40ff-9e05-b73ea509fe91"
      },
      "execution_count": null,
      "outputs": [
        {
          "output_type": "stream",
          "name": "stdout",
          "text": [
            "{'loss': 3.2202417850494385, 'accuracy': 0.46577778458595276}\n"
          ]
        }
      ]
    },
    {
      "cell_type": "code",
      "source": [
        "class MonteCarloDropout(keras.layers.Dropout):\n",
        "  def call(self, inputs):\n",
        "    return super().call(inputs, training=True)\n",
        "mc_dropout =  MonteCarloDropout(0.2)"
      ],
      "metadata": {
        "id": "A1yJPg-iMFA7"
      },
      "execution_count": null,
      "outputs": []
    },
    {
      "cell_type": "code",
      "source": [
        "model_Regularize_Testing2 = keras.models.Sequential([\n",
        "  keras.layers.Flatten(input_shape=[32, 32, 3]),\n",
        "  keras.layers.Dense(160, activation =\"relu\", kernel_initializer = 'he_normal', \n",
        "                    kernel_regularizer=keras.regularizers.l2(0.01)),\n",
        "  keras.layers.Dense(352, activation='relu', kernel_initializer = 'he_normal'),\n",
        "  keras.layers.Dense(512, activation='relu', kernel_initializer = 'he_normal'),\n",
        "  keras.layers.Dense(384, activation='relu', kernel_initializer = 'he_normal'),\n",
        "  mc_dropout,  \n",
        "  keras.layers.Dense(10, activation=\"softmax\")\n",
        "])\n",
        "print(model_Regularize_Testing.summary())\n",
        "\n",
        "lr = 0.00032699677404287816\n",
        "model_Regularize_Testing2.compile(\n",
        "        optimizer=keras.optimizers.Adam(learning_rate=lr),\n",
        "        loss=\"sparse_categorical_crossentropy\",\n",
        "        metrics=[\"accuracy\"],\n",
        "    )"
      ],
      "metadata": {
        "colab": {
          "base_uri": "https://localhost:8080/"
        },
        "id": "5X8hzgbT3ZOZ",
        "outputId": "566dfbdf-5bb7-4a1f-b25f-c7bea5b932a0"
      },
      "execution_count": null,
      "outputs": [
        {
          "output_type": "stream",
          "name": "stdout",
          "text": [
            "Model: \"sequential_6\"\n",
            "_________________________________________________________________\n",
            " Layer (type)                Output Shape              Param #   \n",
            "=================================================================\n",
            " flatten_12 (Flatten)        (None, 3072)              0         \n",
            "                                                                 \n",
            " dense_31 (Dense)            (None, 160)               491680    \n",
            "                                                                 \n",
            " dense_32 (Dense)            (None, 352)               56672     \n",
            "                                                                 \n",
            " dense_33 (Dense)            (None, 512)               180736    \n",
            "                                                                 \n",
            " dense_34 (Dense)            (None, 384)               196992    \n",
            "                                                                 \n",
            " monte_carlo_dropout (MonteC  multiple                 0         \n",
            " arloDropout)                                                    \n",
            "                                                                 \n",
            " dense_35 (Dense)            (None, 10)                3850      \n",
            "                                                                 \n",
            "=================================================================\n",
            "Total params: 929,930\n",
            "Trainable params: 929,930\n",
            "Non-trainable params: 0\n",
            "_________________________________________________________________\n",
            "None\n"
          ]
        }
      ]
    },
    {
      "cell_type": "code",
      "source": [
        "model_Regularize_Testing2_history = model_Regularize_Testing2.fit(x_train, y_train, batch_size=32 , epochs=100, validation_split=0.1)\n",
        "print(model_Regularize_Testing2_history.history)"
      ],
      "metadata": {
        "colab": {
          "base_uri": "https://localhost:8080/"
        },
        "id": "zdHt7Pj63g2u",
        "outputId": "b1865c8b-9787-423e-98f9-005abe01ff24"
      },
      "execution_count": null,
      "outputs": [
        {
          "output_type": "stream",
          "name": "stdout",
          "text": [
            "Epoch 1/100\n",
            "1435/1435 [==============================] - 29s 20ms/step - loss: 1.9221 - accuracy: 0.3638 - val_loss: 1.7881 - val_accuracy: 0.3910\n",
            "Epoch 2/100\n",
            "1435/1435 [==============================] - 36s 25ms/step - loss: 1.7671 - accuracy: 0.3993 - val_loss: 1.7092 - val_accuracy: 0.4080\n",
            "Epoch 3/100\n",
            "1435/1435 [==============================] - 30s 21ms/step - loss: 1.6912 - accuracy: 0.4256 - val_loss: 1.6670 - val_accuracy: 0.4273\n",
            "Epoch 4/100\n",
            "1435/1435 [==============================] - 31s 21ms/step - loss: 1.6489 - accuracy: 0.4366 - val_loss: 1.8033 - val_accuracy: 0.3820\n",
            "Epoch 5/100\n",
            "1435/1435 [==============================] - 26s 18ms/step - loss: 1.6269 - accuracy: 0.4449 - val_loss: 1.6465 - val_accuracy: 0.4394\n",
            "Epoch 6/100\n",
            "1435/1435 [==============================] - 26s 18ms/step - loss: 1.5953 - accuracy: 0.4570 - val_loss: 1.5934 - val_accuracy: 0.4592\n",
            "Epoch 7/100\n",
            "1435/1435 [==============================] - 26s 18ms/step - loss: 1.5810 - accuracy: 0.4616 - val_loss: 1.7256 - val_accuracy: 0.4122\n",
            "Epoch 8/100\n",
            "1435/1435 [==============================] - 27s 19ms/step - loss: 1.5574 - accuracy: 0.4715 - val_loss: 1.6404 - val_accuracy: 0.4396\n",
            "Epoch 9/100\n",
            "1435/1435 [==============================] - 26s 18ms/step - loss: 1.5439 - accuracy: 0.4753 - val_loss: 1.6472 - val_accuracy: 0.4431\n",
            "Epoch 10/100\n",
            "1435/1435 [==============================] - 35s 24ms/step - loss: 1.5261 - accuracy: 0.4853 - val_loss: 1.5710 - val_accuracy: 0.4686\n",
            "Epoch 11/100\n",
            "1435/1435 [==============================] - 27s 19ms/step - loss: 1.5084 - accuracy: 0.4919 - val_loss: 1.6037 - val_accuracy: 0.4590\n",
            "Epoch 12/100\n",
            "1435/1435 [==============================] - 25s 17ms/step - loss: 1.4917 - accuracy: 0.4919 - val_loss: 1.6187 - val_accuracy: 0.4524\n",
            "Epoch 13/100\n",
            "1435/1435 [==============================] - 26s 18ms/step - loss: 1.4821 - accuracy: 0.5005 - val_loss: 1.5464 - val_accuracy: 0.4818\n",
            "Epoch 14/100\n",
            "1435/1435 [==============================] - 25s 18ms/step - loss: 1.4652 - accuracy: 0.5075 - val_loss: 1.5781 - val_accuracy: 0.4759\n",
            "Epoch 15/100\n",
            "1435/1435 [==============================] - 26s 18ms/step - loss: 1.4430 - accuracy: 0.5157 - val_loss: 1.5834 - val_accuracy: 0.4761\n",
            "Epoch 16/100\n",
            "1435/1435 [==============================] - 25s 17ms/step - loss: 1.4355 - accuracy: 0.5173 - val_loss: 1.6005 - val_accuracy: 0.4716\n",
            "Epoch 17/100\n",
            "1435/1435 [==============================] - 24s 17ms/step - loss: 1.4192 - accuracy: 0.5225 - val_loss: 1.6037 - val_accuracy: 0.4735\n",
            "Epoch 18/100\n",
            "1435/1435 [==============================] - 26s 18ms/step - loss: 1.4024 - accuracy: 0.5303 - val_loss: 1.6920 - val_accuracy: 0.4465\n",
            "Epoch 19/100\n",
            "1435/1435 [==============================] - 27s 19ms/step - loss: 1.3974 - accuracy: 0.5331 - val_loss: 1.5849 - val_accuracy: 0.4810\n",
            "Epoch 20/100\n",
            "1435/1435 [==============================] - 25s 17ms/step - loss: 1.3807 - accuracy: 0.5384 - val_loss: 1.6241 - val_accuracy: 0.4657\n",
            "Epoch 21/100\n",
            "1435/1435 [==============================] - 25s 18ms/step - loss: 1.3636 - accuracy: 0.5457 - val_loss: 1.6052 - val_accuracy: 0.4747\n",
            "Epoch 22/100\n",
            "1435/1435 [==============================] - 24s 17ms/step - loss: 1.3472 - accuracy: 0.5495 - val_loss: 1.6783 - val_accuracy: 0.4582\n",
            "Epoch 23/100\n",
            "1435/1435 [==============================] - 25s 17ms/step - loss: 1.3321 - accuracy: 0.5558 - val_loss: 1.6165 - val_accuracy: 0.4718\n",
            "Epoch 24/100\n",
            "1435/1435 [==============================] - 25s 17ms/step - loss: 1.3246 - accuracy: 0.5603 - val_loss: 1.6169 - val_accuracy: 0.4825\n",
            "Epoch 25/100\n",
            "1435/1435 [==============================] - 27s 19ms/step - loss: 1.3048 - accuracy: 0.5688 - val_loss: 1.6738 - val_accuracy: 0.4678\n",
            "Epoch 26/100\n",
            "1435/1435 [==============================] - 25s 17ms/step - loss: 1.2876 - accuracy: 0.5739 - val_loss: 1.6479 - val_accuracy: 0.4661\n",
            "Epoch 27/100\n",
            "1435/1435 [==============================] - 24s 17ms/step - loss: 1.2701 - accuracy: 0.5821 - val_loss: 1.6543 - val_accuracy: 0.4794\n",
            "Epoch 28/100\n",
            "1435/1435 [==============================] - 26s 18ms/step - loss: 1.2513 - accuracy: 0.5899 - val_loss: 1.6258 - val_accuracy: 0.4908\n",
            "Epoch 29/100\n",
            "1435/1435 [==============================] - 25s 18ms/step - loss: 1.2494 - accuracy: 0.5928 - val_loss: 1.7500 - val_accuracy: 0.4710\n",
            "Epoch 30/100\n",
            "1435/1435 [==============================] - 25s 17ms/step - loss: 1.2207 - accuracy: 0.6019 - val_loss: 1.7347 - val_accuracy: 0.4692\n",
            "Epoch 31/100\n",
            "1435/1435 [==============================] - 27s 19ms/step - loss: 1.2099 - accuracy: 0.6063 - val_loss: 1.7925 - val_accuracy: 0.4545\n",
            "Epoch 32/100\n",
            "1435/1435 [==============================] - 24s 17ms/step - loss: 1.1890 - accuracy: 0.6145 - val_loss: 1.7600 - val_accuracy: 0.4673\n",
            "Epoch 33/100\n",
            "1435/1435 [==============================] - 25s 18ms/step - loss: 1.1748 - accuracy: 0.6170 - val_loss: 1.8029 - val_accuracy: 0.4512\n",
            "Epoch 34/100\n",
            "1435/1435 [==============================] - 25s 17ms/step - loss: 1.1623 - accuracy: 0.6266 - val_loss: 1.7502 - val_accuracy: 0.4745\n",
            "Epoch 35/100\n",
            "1435/1435 [==============================] - 26s 18ms/step - loss: 1.1369 - accuracy: 0.6362 - val_loss: 1.7471 - val_accuracy: 0.4745\n",
            "Epoch 36/100\n",
            "1435/1435 [==============================] - 25s 17ms/step - loss: 1.1286 - accuracy: 0.6358 - val_loss: 1.8032 - val_accuracy: 0.4718\n",
            "Epoch 37/100\n",
            "1435/1435 [==============================] - 26s 18ms/step - loss: 1.1015 - accuracy: 0.6473 - val_loss: 1.8324 - val_accuracy: 0.4724\n",
            "Epoch 38/100\n",
            "1435/1435 [==============================] - 24s 17ms/step - loss: 1.0861 - accuracy: 0.6527 - val_loss: 1.8422 - val_accuracy: 0.4551\n",
            "Epoch 39/100\n",
            "1435/1435 [==============================] - 25s 17ms/step - loss: 1.0706 - accuracy: 0.6611 - val_loss: 1.8973 - val_accuracy: 0.4629\n",
            "Epoch 40/100\n",
            "1435/1435 [==============================] - 25s 18ms/step - loss: 1.0491 - accuracy: 0.6699 - val_loss: 1.8707 - val_accuracy: 0.4743\n",
            "Epoch 41/100\n",
            "1435/1435 [==============================] - 25s 18ms/step - loss: 1.0275 - accuracy: 0.6778 - val_loss: 1.9136 - val_accuracy: 0.4663\n",
            "Epoch 42/100\n",
            "1435/1435 [==============================] - 24s 17ms/step - loss: 1.0244 - accuracy: 0.6786 - val_loss: 2.0621 - val_accuracy: 0.4573\n",
            "Epoch 43/100\n",
            "1435/1435 [==============================] - 26s 18ms/step - loss: 1.0043 - accuracy: 0.6880 - val_loss: 2.0129 - val_accuracy: 0.4592\n",
            "Epoch 44/100\n",
            "1435/1435 [==============================] - 25s 17ms/step - loss: 0.9797 - accuracy: 0.6971 - val_loss: 1.9471 - val_accuracy: 0.4714\n",
            "Epoch 45/100\n",
            "1435/1435 [==============================] - 25s 17ms/step - loss: 0.9718 - accuracy: 0.7006 - val_loss: 2.0016 - val_accuracy: 0.4651\n",
            "Epoch 46/100\n",
            "1435/1435 [==============================] - 25s 17ms/step - loss: 0.9623 - accuracy: 0.7038 - val_loss: 2.0458 - val_accuracy: 0.4682\n",
            "Epoch 47/100\n",
            "1435/1435 [==============================] - 24s 17ms/step - loss: 0.9350 - accuracy: 0.7146 - val_loss: 2.0737 - val_accuracy: 0.4565\n",
            "Epoch 48/100\n",
            "1435/1435 [==============================] - 25s 17ms/step - loss: 0.9310 - accuracy: 0.7195 - val_loss: 2.0894 - val_accuracy: 0.4704\n",
            "Epoch 49/100\n",
            "1435/1435 [==============================] - 27s 19ms/step - loss: 0.9094 - accuracy: 0.7221 - val_loss: 2.1320 - val_accuracy: 0.4641\n",
            "Epoch 50/100\n",
            "1435/1435 [==============================] - 25s 17ms/step - loss: 0.8904 - accuracy: 0.7330 - val_loss: 2.2088 - val_accuracy: 0.4439\n",
            "Epoch 51/100\n",
            "1435/1435 [==============================] - 26s 18ms/step - loss: 0.8948 - accuracy: 0.7340 - val_loss: 2.1951 - val_accuracy: 0.4616\n",
            "Epoch 52/100\n",
            "1435/1435 [==============================] - 25s 18ms/step - loss: 0.8708 - accuracy: 0.7377 - val_loss: 2.1803 - val_accuracy: 0.4657\n",
            "Epoch 53/100\n",
            "1435/1435 [==============================] - 24s 17ms/step - loss: 0.8632 - accuracy: 0.7427 - val_loss: 2.2153 - val_accuracy: 0.4716\n",
            "Epoch 54/100\n",
            "1435/1435 [==============================] - 26s 18ms/step - loss: 0.8491 - accuracy: 0.7495 - val_loss: 2.3042 - val_accuracy: 0.4557\n",
            "Epoch 55/100\n",
            "1435/1435 [==============================] - 27s 18ms/step - loss: 0.8293 - accuracy: 0.7583 - val_loss: 2.3126 - val_accuracy: 0.4573\n",
            "Epoch 56/100\n",
            "1435/1435 [==============================] - 26s 18ms/step - loss: 0.8234 - accuracy: 0.7598 - val_loss: 2.3473 - val_accuracy: 0.4551\n",
            "Epoch 57/100\n",
            "1435/1435 [==============================] - 25s 17ms/step - loss: 0.8153 - accuracy: 0.7618 - val_loss: 2.3585 - val_accuracy: 0.4502\n",
            "Epoch 58/100\n",
            "1435/1435 [==============================] - 24s 17ms/step - loss: 0.8162 - accuracy: 0.7642 - val_loss: 2.4238 - val_accuracy: 0.4578\n",
            "Epoch 59/100\n",
            "1435/1435 [==============================] - 25s 17ms/step - loss: 0.8040 - accuracy: 0.7693 - val_loss: 2.4336 - val_accuracy: 0.4482\n",
            "Epoch 60/100\n",
            "1435/1435 [==============================] - 25s 17ms/step - loss: 0.7840 - accuracy: 0.7763 - val_loss: 2.5066 - val_accuracy: 0.4537\n",
            "Epoch 61/100\n",
            "1435/1435 [==============================] - 27s 19ms/step - loss: 0.7840 - accuracy: 0.7748 - val_loss: 2.5063 - val_accuracy: 0.4612\n",
            "Epoch 62/100\n",
            "1435/1435 [==============================] - 26s 18ms/step - loss: 0.7587 - accuracy: 0.7857 - val_loss: 2.4327 - val_accuracy: 0.4604\n",
            "Epoch 63/100\n",
            "1435/1435 [==============================] - 25s 18ms/step - loss: 0.7556 - accuracy: 0.7856 - val_loss: 2.5370 - val_accuracy: 0.4516\n",
            "Epoch 64/100\n",
            "1435/1435 [==============================] - 24s 17ms/step - loss: 0.7470 - accuracy: 0.7905 - val_loss: 2.5630 - val_accuracy: 0.4563\n",
            "Epoch 65/100\n",
            "1435/1435 [==============================] - 25s 17ms/step - loss: 0.7250 - accuracy: 0.7976 - val_loss: 2.6208 - val_accuracy: 0.4473\n",
            "Epoch 66/100\n",
            "1435/1435 [==============================] - 25s 18ms/step - loss: 0.7441 - accuracy: 0.7940 - val_loss: 2.6143 - val_accuracy: 0.4553\n",
            "Epoch 67/100\n",
            "1435/1435 [==============================] - 27s 19ms/step - loss: 0.7280 - accuracy: 0.7972 - val_loss: 2.7843 - val_accuracy: 0.4463\n",
            "Epoch 68/100\n",
            "1435/1435 [==============================] - 26s 18ms/step - loss: 0.7276 - accuracy: 0.7989 - val_loss: 2.7035 - val_accuracy: 0.4535\n",
            "Epoch 69/100\n",
            "1435/1435 [==============================] - 25s 17ms/step - loss: 0.7234 - accuracy: 0.8012 - val_loss: 2.6787 - val_accuracy: 0.4551\n",
            "Epoch 70/100\n",
            "1435/1435 [==============================] - 25s 17ms/step - loss: 0.6956 - accuracy: 0.8097 - val_loss: 2.7529 - val_accuracy: 0.4443\n",
            "Epoch 71/100\n",
            "1435/1435 [==============================] - 26s 18ms/step - loss: 0.6910 - accuracy: 0.8131 - val_loss: 2.7416 - val_accuracy: 0.4498\n",
            "Epoch 72/100\n",
            "1435/1435 [==============================] - 25s 18ms/step - loss: 0.6849 - accuracy: 0.8133 - val_loss: 2.8027 - val_accuracy: 0.4447\n",
            "Epoch 73/100\n",
            "1435/1435 [==============================] - 28s 19ms/step - loss: 0.6942 - accuracy: 0.8119 - val_loss: 2.8279 - val_accuracy: 0.4535\n",
            "Epoch 74/100\n",
            "1435/1435 [==============================] - 25s 17ms/step - loss: 0.6825 - accuracy: 0.8168 - val_loss: 2.9461 - val_accuracy: 0.4494\n",
            "Epoch 75/100\n",
            "1435/1435 [==============================] - 24s 17ms/step - loss: 0.6875 - accuracy: 0.8137 - val_loss: 2.8518 - val_accuracy: 0.4592\n",
            "Epoch 76/100\n",
            "1435/1435 [==============================] - 26s 18ms/step - loss: 0.6687 - accuracy: 0.8208 - val_loss: 2.9048 - val_accuracy: 0.4510\n",
            "Epoch 77/100\n",
            "1435/1435 [==============================] - 26s 18ms/step - loss: 0.6578 - accuracy: 0.8272 - val_loss: 2.9587 - val_accuracy: 0.4492\n",
            "Epoch 78/100\n",
            "1435/1435 [==============================] - 25s 17ms/step - loss: 0.6612 - accuracy: 0.8221 - val_loss: 2.9652 - val_accuracy: 0.4443\n",
            "Epoch 79/100\n",
            "1435/1435 [==============================] - 27s 19ms/step - loss: 0.6528 - accuracy: 0.8303 - val_loss: 3.0156 - val_accuracy: 0.4514\n",
            "Epoch 80/100\n",
            "1435/1435 [==============================] - 25s 17ms/step - loss: 0.6402 - accuracy: 0.8336 - val_loss: 3.1831 - val_accuracy: 0.4247\n",
            "Epoch 81/100\n",
            "1435/1435 [==============================] - 25s 18ms/step - loss: 0.6411 - accuracy: 0.8340 - val_loss: 3.0153 - val_accuracy: 0.4427\n",
            "Epoch 82/100\n",
            "1435/1435 [==============================] - 25s 18ms/step - loss: 0.6275 - accuracy: 0.8393 - val_loss: 3.0201 - val_accuracy: 0.4431\n",
            "Epoch 83/100\n",
            "1435/1435 [==============================] - 25s 17ms/step - loss: 0.6466 - accuracy: 0.8324 - val_loss: 3.0462 - val_accuracy: 0.4443\n",
            "Epoch 84/100\n",
            "1435/1435 [==============================] - 25s 18ms/step - loss: 0.6424 - accuracy: 0.8354 - val_loss: 3.3134 - val_accuracy: 0.4437\n",
            "Epoch 85/100\n",
            "1435/1435 [==============================] - 26s 18ms/step - loss: 0.6242 - accuracy: 0.8405 - val_loss: 3.1319 - val_accuracy: 0.4363\n",
            "Epoch 86/100\n",
            "1435/1435 [==============================] - 24s 17ms/step - loss: 0.6277 - accuracy: 0.8423 - val_loss: 3.1748 - val_accuracy: 0.4488\n",
            "Epoch 87/100\n",
            "1435/1435 [==============================] - 26s 18ms/step - loss: 0.6131 - accuracy: 0.8440 - val_loss: 3.2576 - val_accuracy: 0.4425\n",
            "Epoch 88/100\n",
            "1435/1435 [==============================] - 25s 17ms/step - loss: 0.6011 - accuracy: 0.8503 - val_loss: 3.3435 - val_accuracy: 0.4518\n",
            "Epoch 89/100\n",
            "1435/1435 [==============================] - 25s 18ms/step - loss: 0.6106 - accuracy: 0.8471 - val_loss: 3.2517 - val_accuracy: 0.4418\n",
            "Epoch 90/100\n",
            "1435/1435 [==============================] - 25s 17ms/step - loss: 0.6069 - accuracy: 0.8470 - val_loss: 3.3006 - val_accuracy: 0.4427\n",
            "Epoch 91/100\n",
            "1435/1435 [==============================] - 27s 19ms/step - loss: 0.6089 - accuracy: 0.8463 - val_loss: 3.2938 - val_accuracy: 0.4376\n",
            "Epoch 92/100\n",
            "1435/1435 [==============================] - 25s 18ms/step - loss: 0.6091 - accuracy: 0.8457 - val_loss: 3.3230 - val_accuracy: 0.4412\n",
            "Epoch 93/100\n",
            "1435/1435 [==============================] - 25s 17ms/step - loss: 0.5900 - accuracy: 0.8534 - val_loss: 3.3808 - val_accuracy: 0.4449\n",
            "Epoch 94/100\n",
            "1435/1435 [==============================] - 25s 18ms/step - loss: 0.5839 - accuracy: 0.8583 - val_loss: 3.1774 - val_accuracy: 0.4410\n",
            "Epoch 95/100\n",
            "1435/1435 [==============================] - 24s 17ms/step - loss: 0.5950 - accuracy: 0.8532 - val_loss: 3.3116 - val_accuracy: 0.4365\n",
            "Epoch 96/100\n",
            "1435/1435 [==============================] - 27s 19ms/step - loss: 0.5837 - accuracy: 0.8560 - val_loss: 3.3912 - val_accuracy: 0.4578\n",
            "Epoch 97/100\n",
            "1435/1435 [==============================] - 25s 17ms/step - loss: 0.5741 - accuracy: 0.8592 - val_loss: 3.5769 - val_accuracy: 0.4451\n",
            "Epoch 98/100\n",
            "1435/1435 [==============================] - 25s 18ms/step - loss: 0.5899 - accuracy: 0.8543 - val_loss: 3.3994 - val_accuracy: 0.4373\n",
            "Epoch 99/100\n",
            "1435/1435 [==============================] - 25s 18ms/step - loss: 0.5684 - accuracy: 0.8638 - val_loss: 3.5203 - val_accuracy: 0.4453\n",
            "Epoch 100/100\n",
            "1435/1435 [==============================] - 24s 17ms/step - loss: 0.5884 - accuracy: 0.8563 - val_loss: 3.4842 - val_accuracy: 0.4392\n",
            "{'loss': [1.9221487045288086, 1.7671304941177368, 1.691163420677185, 1.648890733718872, 1.6269488334655762, 1.5953387022018433, 1.580973744392395, 1.5573761463165283, 1.543884515762329, 1.5260776281356812, 1.5084034204483032, 1.4916508197784424, 1.482095718383789, 1.465177297592163, 1.4429898262023926, 1.4355409145355225, 1.4192463159561157, 1.4023557901382446, 1.3973665237426758, 1.3807437419891357, 1.3635753393173218, 1.347238302230835, 1.3320707082748413, 1.3246407508850098, 1.304762363433838, 1.2875529527664185, 1.2701367139816284, 1.2512788772583008, 1.2493993043899536, 1.2207238674163818, 1.2098766565322876, 1.1890002489089966, 1.174826741218567, 1.162323236465454, 1.1369476318359375, 1.1285579204559326, 1.1015348434448242, 1.0861122608184814, 1.0706218481063843, 1.0491138696670532, 1.0274745225906372, 1.0244406461715698, 1.0042550563812256, 0.9797438979148865, 0.9718149900436401, 0.9623284935951233, 0.9349960088729858, 0.9309511184692383, 0.9094480276107788, 0.8904364705085754, 0.894773542881012, 0.8708469271659851, 0.8632441163063049, 0.8490907549858093, 0.8292539119720459, 0.8234272599220276, 0.8152591586112976, 0.8162484765052795, 0.8039987683296204, 0.7839657664299011, 0.7840109467506409, 0.7587235569953918, 0.7556317448616028, 0.7469565272331238, 0.7249541282653809, 0.7440540790557861, 0.7280049324035645, 0.7276032567024231, 0.7234312295913696, 0.6956458687782288, 0.6909939050674438, 0.6849318742752075, 0.6942402124404907, 0.6825048923492432, 0.6874664425849915, 0.6687187552452087, 0.6578208804130554, 0.6611806154251099, 0.6528395414352417, 0.6402232646942139, 0.6410752534866333, 0.6274909377098083, 0.6466342210769653, 0.6424410343170166, 0.6242433190345764, 0.6276982426643372, 0.6130772829055786, 0.601124107837677, 0.6106185913085938, 0.6069034337997437, 0.6088764071464539, 0.6090814471244812, 0.5899698138237, 0.5838505625724792, 0.5949621200561523, 0.5836920142173767, 0.5741291046142578, 0.5899167060852051, 0.5684075951576233, 0.5884398221969604], 'accuracy': [0.3637690544128418, 0.3993246257305145, 0.425555557012558, 0.43662309646606445, 0.4448801875114441, 0.4569934606552124, 0.4615686237812042, 0.47145968675613403, 0.4752941131591797, 0.4853377044200897, 0.491917222738266, 0.491917222738266, 0.5005228519439697, 0.5074945688247681, 0.5156644582748413, 0.5173420310020447, 0.522549033164978, 0.5302614569664001, 0.5331372618675232, 0.5384095907211304, 0.5456644892692566, 0.5495206713676453, 0.5558170080184937, 0.5603268146514893, 0.5688453316688538, 0.5739433765411377, 0.5821132659912109, 0.5898910760879517, 0.5927668809890747, 0.6018736362457275, 0.6063398718833923, 0.6145315766334534, 0.6169716715812683, 0.6265795230865479, 0.6362309455871582, 0.6357516050338745, 0.6472548842430115, 0.6526579260826111, 0.661067545413971, 0.6698910593986511, 0.6777995824813843, 0.6785838603973389, 0.6880174279212952, 0.6970587968826294, 0.7006317973136902, 0.7037690877914429, 0.7145969271659851, 0.7195425033569336, 0.722135066986084, 0.732962965965271, 0.7339869141578674, 0.7377124428749084, 0.742701530456543, 0.7495207190513611, 0.7582570910453796, 0.7598039507865906, 0.7617865204811096, 0.7642048001289368, 0.7693028450012207, 0.7762745022773743, 0.7747930288314819, 0.7856644988059998, 0.7855555415153503, 0.7905446887016296, 0.797581672668457, 0.794008731842041, 0.7971895337104797, 0.7989106774330139, 0.8012200593948364, 0.8097167611122131, 0.8130719065666199, 0.8133115172386169, 0.8119171857833862, 0.8167538046836853, 0.813703715801239, 0.8207625150680542, 0.8271677494049072, 0.8220697045326233, 0.8303050398826599, 0.8335729837417603, 0.8340305089950562, 0.8392592668533325, 0.8323529362678528, 0.8354248404502869, 0.8405446410179138, 0.8423311710357666, 0.8439869284629822, 0.8503485918045044, 0.8470588326454163, 0.8470152616500854, 0.8462744951248169, 0.8457080721855164, 0.8533769249916077, 0.8582788705825806, 0.8531808257102966, 0.8559913039207458, 0.8591503500938416, 0.8543354868888855, 0.8637908697128296, 0.8563398718833923], 'val_loss': [1.788133978843689, 1.7091618776321411, 1.6669631004333496, 1.8033291101455688, 1.6464568376541138, 1.593369483947754, 1.7255855798721313, 1.640380620956421, 1.6472234725952148, 1.571024775505066, 1.6037101745605469, 1.6186778545379639, 1.5464458465576172, 1.5781164169311523, 1.583389401435852, 1.600498914718628, 1.6036577224731445, 1.6919636726379395, 1.5848809480667114, 1.6241490840911865, 1.605173945426941, 1.678267240524292, 1.6164579391479492, 1.6169188022613525, 1.6737781763076782, 1.6478838920593262, 1.6543158292770386, 1.6258442401885986, 1.749993085861206, 1.7346735000610352, 1.7924808263778687, 1.7600362300872803, 1.8028557300567627, 1.7501851320266724, 1.7470715045928955, 1.803186058998108, 1.8323665857315063, 1.8422056436538696, 1.8972985744476318, 1.8706531524658203, 1.9135751724243164, 2.062103748321533, 2.0128743648529053, 1.9471068382263184, 2.001631259918213, 2.04583477973938, 2.0736706256866455, 2.0894415378570557, 2.1320128440856934, 2.2087972164154053, 2.1950631141662598, 2.1802725791931152, 2.2152700424194336, 2.3042185306549072, 2.312572479248047, 2.347315549850464, 2.358518600463867, 2.423811674118042, 2.433640241622925, 2.506586790084839, 2.5062742233276367, 2.4327309131622314, 2.537032127380371, 2.563000202178955, 2.6207847595214844, 2.6143321990966797, 2.7843096256256104, 2.703476667404175, 2.6787281036376953, 2.7529098987579346, 2.741621971130371, 2.802748918533325, 2.8278677463531494, 2.9461162090301514, 2.8517768383026123, 2.904812812805176, 2.958653450012207, 2.965226650238037, 3.015557289123535, 3.1831448078155518, 3.0153143405914307, 3.0200843811035156, 3.046231985092163, 3.313403367996216, 3.1318769454956055, 3.174846887588501, 3.2575933933258057, 3.343518018722534, 3.251732110977173, 3.300625801086426, 3.29376220703125, 3.322981119155884, 3.3807666301727295, 3.177401542663574, 3.311638355255127, 3.3912460803985596, 3.5768887996673584, 3.399413585662842, 3.52034854888916, 3.4842145442962646], 'val_accuracy': [0.39098039269447327, 0.4080392122268677, 0.42725491523742676, 0.38196077942848206, 0.4394117593765259, 0.4592157006263733, 0.4121568500995636, 0.4396078288555145, 0.4431372582912445, 0.4686274528503418, 0.45901960134506226, 0.45235294103622437, 0.48176470398902893, 0.475882351398468, 0.47607842087745667, 0.47156861424446106, 0.4735293984413147, 0.44647058844566345, 0.48098039627075195, 0.46568626165390015, 0.47470587491989136, 0.4582352936267853, 0.4717647135257721, 0.4825490117073059, 0.4678431451320648, 0.46607843041419983, 0.4794117510318756, 0.49078431725502014, 0.4709804058074951, 0.4692156910896301, 0.45450979471206665, 0.4672549068927765, 0.4511764645576477, 0.4745098054409027, 0.4745098054409027, 0.4717647135257721, 0.4723529517650604, 0.455098032951355, 0.46294116973876953, 0.47431373596191406, 0.4662744998931885, 0.45725491642951965, 0.4592157006263733, 0.4713725447654724, 0.4650980532169342, 0.4682352840900421, 0.4564705789089203, 0.4703921675682068, 0.4641176462173462, 0.4439215660095215, 0.4615686237812042, 0.46568626165390015, 0.47156861424446106, 0.4556862711906433, 0.45725491642951965, 0.455098032951355, 0.4501960873603821, 0.4578431248664856, 0.44823530316352844, 0.4537254869937897, 0.46117648482322693, 0.46039214730262756, 0.4515686333179474, 0.45627450942993164, 0.44725489616394043, 0.455294132232666, 0.4462745189666748, 0.453529417514801, 0.455098032951355, 0.44431373476982117, 0.4498039186000824, 0.44470587372779846, 0.453529417514801, 0.4494117498397827, 0.4592157006263733, 0.45098039507865906, 0.44921568036079407, 0.44431373476982117, 0.45137256383895874, 0.4247058928012848, 0.4427450895309448, 0.4431372582912445, 0.44431373476982117, 0.44372549653053284, 0.4362744987010956, 0.4488235414028168, 0.4425490200519562, 0.45176470279693604, 0.4417647123336792, 0.4427450895309448, 0.4376470446586609, 0.44117647409439087, 0.4449019730091095, 0.4409804046154022, 0.4364705979824066, 0.4578431248664856, 0.44509804248809814, 0.4372549057006836, 0.4452941119670868, 0.43921568989753723]}\n"
          ]
        }
      ]
    },
    {
      "cell_type": "code",
      "source": [
        "fig, ax = plt.subplots(figsize=(12, 5))\n",
        "ax.plot(model_Regularize_Testing2_history.history['loss'], label='train loss with Regularize')\n",
        "ax.plot(model_Regularize_Testing2_history.history['accuracy'], label='train accuracy with Regularize')\n",
        "ax.plot(model_Regularize_Testing2_history.history['val_loss'], label='validation loss with Regularize')\n",
        "ax.plot(model_Regularize_Testing2_history.history['val_accuracy'], label='validation accuracy with Regularize')\n",
        "ax.legend()"
      ],
      "metadata": {
        "colab": {
          "base_uri": "https://localhost:8080/",
          "height": 462
        },
        "id": "ftoH0uJ85Ag0",
        "outputId": "4a440f86-732d-4757-e8a3-9e531e84ac57"
      },
      "execution_count": null,
      "outputs": [
        {
          "output_type": "execute_result",
          "data": {
            "text/plain": [
              "<matplotlib.legend.Legend at 0x7fbf39bc63d0>"
            ]
          },
          "metadata": {},
          "execution_count": 41
        },
        {
          "output_type": "display_data",
          "data": {
            "text/plain": [
              "<Figure size 1200x500 with 1 Axes>"
            ],
            "image/png": "[encoded data removed]"
          },
          "metadata": {}
        }
      ]
    },
    {
      "cell_type": "code",
      "source": [
        "# evaluate the model\n",
        "print(model_Regularize_Testing2.evaluate(x_test, y_test, verbose=0, return_dict=True))"
      ],
      "metadata": {
        "colab": {
          "base_uri": "https://localhost:8080/"
        },
        "id": "sed8C4T55Fra",
        "outputId": "6c409fb6-e2b8-47c4-c0db-4859401f2a28"
      },
      "execution_count": null,
      "outputs": [
        {
          "output_type": "stream",
          "name": "stdout",
          "text": [
            "{'loss': 3.3503222465515137, 'accuracy': 0.44911110401153564}\n"
          ]
        }
      ]
    }
  ]
}